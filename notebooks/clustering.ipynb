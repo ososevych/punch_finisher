{
 "cells": [
  {
   "cell_type": "code",
   "execution_count": 5,
   "metadata": {},
   "outputs": [
    {
     "name": "stdout",
     "output_type": "stream",
     "text": [
      "<class 'pandas.core.frame.DataFrame'>\n",
      "RangeIndex: 331368 entries, 0 to 331367\n",
      "Data columns (total 14 columns):\n",
      " #   Column        Non-Null Count   Dtype \n",
      "---  ------        --------------   ----- \n",
      " 0   id            331368 non-null  int64 \n",
      " 1   name          331368 non-null  object\n",
      " 2   category      331368 non-null  object\n",
      " 3   subcategory   331368 non-null  object\n",
      " 4   country       331368 non-null  object\n",
      " 5   launched      331368 non-null  object\n",
      " 6   deadline      331368 non-null  object\n",
      " 7   goal          331368 non-null  int64 \n",
      " 8   pledged       331368 non-null  int64 \n",
      " 9   backers       331368 non-null  int64 \n",
      " 10  state         331368 non-null  object\n",
      " 11  duration      331368 non-null  int64 \n",
      " 12  launch_month  331368 non-null  int64 \n",
      " 13  launch_year   331368 non-null  int64 \n",
      "dtypes: int64(7), object(7)\n",
      "memory usage: 35.4+ MB\n",
      "None\n",
      "                 id          goal       pledged        backers       duration   \n",
      "count  3.313680e+05  3.313680e+05  3.313680e+05  331368.000000  331368.000000  \\\n",
      "mean   1.074274e+09  4.119947e+04  9.942576e+03     116.485171      32.965111   \n",
      "std    6.192029e+08  1.095625e+06  9.665918e+04     965.868090      12.703893   \n",
      "min    5.971000e+03  1.000000e+00  0.000000e+00       0.000000       1.000000   \n",
      "25%    5.371489e+08  2.000000e+03  5.000000e+01       2.000000      29.000000   \n",
      "50%    1.074686e+09  5.000000e+03  7.890000e+02      15.000000      29.000000   \n",
      "75%    1.609843e+09  1.500000e+04  4.610250e+03      63.000000      35.000000   \n",
      "max    2.147476e+09  1.663614e+08  2.033899e+07  219382.000000      91.000000   \n",
      "\n",
      "        launch_month    launch_year  \n",
      "count  331368.000000  331368.000000  \n",
      "mean        6.417874    2014.178898  \n",
      "std         3.307194       1.931015  \n",
      "min         1.000000    2009.000000  \n",
      "25%         4.000000    2013.000000  \n",
      "50%         6.000000    2014.000000  \n",
      "75%         9.000000    2016.000000  \n",
      "max        12.000000    2017.000000  \n",
      "country\n",
      "United States     261290\n",
      "United Kingdom     29438\n",
      "Canada             12366\n",
      "Australia           6613\n",
      "Germany             3436\n",
      "France              2520\n",
      "Netherlands         2411\n",
      "Italy               2369\n",
      "Spain               1872\n",
      "Sweden              1509\n",
      "Mexico              1410\n",
      "New Zealand         1274\n",
      "Denmark              926\n",
      "Ireland              683\n",
      "Switzerland          652\n",
      "Norway               582\n",
      "Belgium              523\n",
      "Austria              485\n",
      "Hong Kong            476\n",
      "Singapore            453\n",
      "Luxembourg            57\n",
      "Japan                 23\n",
      "Name: count, dtype: int64\n"
     ]
    }
   ],
   "source": [
    "#Imports\n",
    "import pandas as pd\n",
    "import numpy as np\n",
    "import warnings\n",
    "import seaborn as sns\n",
    "import matplotlib.pyplot as plt\n",
    "\n",
    "warnings.filterwarnings('ignore')\n",
    "\n",
    "df = pd.read_csv('../data/kickstarter_common.csv')\n",
    "\n",
    "print(df.info())\n",
    "print(df.describe())\n",
    "\n",
    "print(df['country'].value_counts())"
   ]
  },
  {
   "cell_type": "markdown",
   "metadata": {},
   "source": [
    "## Step 1: Success Rate Encoding for category and country\n",
    "We’ll calculate the success rate (proportion of \"successful\" projects) for each unique value in `category` and `country`, then map these rates back to the DataFrame as new columns. This will give us numerical representations of how successful each category and country tends to be, which we’ll use in clustering."
   ]
  },
  {
   "cell_type": "code",
   "execution_count": 6,
   "metadata": {},
   "outputs": [
    {
     "name": "stdout",
     "output_type": "stream",
     "text": [
      "       category  category_success_rate        country  country_success_rate\n",
      "0       Fashion               0.282881  United States              0.418213\n",
      "1  Film & Video               0.417907  United States              0.418213\n",
      "2           Art               0.448759  United States              0.418213\n",
      "3    Technology               0.237907  United States              0.418213\n",
      "4       Fashion               0.282881  United States              0.418213\n"
     ]
    }
   ],
   "source": [
    "# Calculate success rate for 'category'\n",
    "category_success_rate = df.groupby('category')['state'].apply(lambda x: (x == 'Successful').mean())\n",
    "df['category_success_rate'] = df['category'].map(category_success_rate)\n",
    "\n",
    "# Calculate success rate for 'country'\n",
    "country_success_rate = df.groupby('country')['state'].apply(lambda x: (x == 'Successful').mean())\n",
    "df['country_success_rate'] = df['country'].map(country_success_rate)\n",
    "\n",
    "# Verify the new columns\n",
    "print(df[['category', 'category_success_rate', 'country', 'country_success_rate']].head())"
   ]
  },
  {
   "cell_type": "markdown",
   "metadata": {},
   "source": [
    "## Step 2: Prepare Features for Clustering\n",
    "For clustering, we need a set of numerical features that define project similarity. We’ll use `goal`, `duration`, `launch_month`, `launch_year`, `category_success_rate`, and `country_success_rate`. Since goal might be skewed, we’ll apply a log transformation to it. We’ll also standardize all features to ensure they’re on the same scale, which is crucial for K-Means clustering."
   ]
  },
  {
   "cell_type": "code",
   "execution_count": 7,
   "metadata": {},
   "outputs": [
    {
     "name": "stdout",
     "output_type": "stream",
     "text": [
      "Scaled features shape: (331368, 6)\n",
      "Sample of scaled features:\n",
      " [[-1.00497778  0.4750432  -0.73109636 -2.68196008 -1.14254544  0.3597458 ]\n",
      " [ 1.62412002  4.25341837 -0.73109636 -2.68196008  0.13302418  0.3597458 ]\n",
      " [-3.3239353  -1.96515743 -0.73109636 -2.68196008  0.4244757   0.3597458 ]\n",
      " [-2.38737779  3.62368917 -0.73109636 -2.68196008 -1.56741414  0.3597458 ]\n",
      " [-0.62008005 -0.39083444 -0.73109636 -2.68196008 -1.14254544  0.3597458 ]]\n"
     ]
    }
   ],
   "source": [
    "from sklearn.preprocessing import StandardScaler\n",
    "\n",
    "# Select features for clustering\n",
    "features = ['goal', 'duration', 'launch_month', 'launch_year', 'category_success_rate', 'country_success_rate']\n",
    "\n",
    "# Apply log transformation to 'goal' (add 1 to avoid log(0))\n",
    "df['log_goal'] = np.log1p(df['goal'])\n",
    "\n",
    "# Update features list with log_goal instead of goal\n",
    "features = ['log_goal', 'duration', 'launch_month', 'launch_year', 'category_success_rate', 'country_success_rate']\n",
    "\n",
    "# Extract the feature matrix\n",
    "X = df[features]\n",
    "\n",
    "# Standardize the features\n",
    "scaler = StandardScaler()\n",
    "X_scaled = scaler.fit_transform(X)\n",
    "\n",
    "# Check the scaled data\n",
    "print(\"Scaled features shape:\", X_scaled.shape)\n",
    "print(\"Sample of scaled features:\\n\", X_scaled[:5])"
   ]
  },
  {
   "cell_type": "markdown",
   "metadata": {},
   "source": [
    "## Step 3: Perform K-Means Clustering\n",
    "We’ll use K-Means to cluster the projects. To choose the number of clusters (`k`), we’ll try a range of values and use the elbow method to find a reasonable `k`. Then, we’ll fit the model with the chosen `k` and assign cluster labels to each project."
   ]
  },
  {
   "cell_type": "code",
   "execution_count": 8,
   "metadata": {},
   "outputs": [
    {
     "data": {
      "image/png": "[encoded data removed]",
      "text/plain": [
       "<Figure size 800x500 with 1 Axes>"
      ]
     },
     "metadata": {},
     "output_type": "display_data"
    },
    {
     "name": "stdout",
     "output_type": "stream",
     "text": [
      "           id      category        country       state  cluster\n",
      "0  1860890148       Fashion  United States      Failed        3\n",
      "1   709707365  Film & Video  United States      Failed        0\n",
      "2  1703704063           Art  United States  Successful        3\n",
      "3      727286    Technology  United States  Successful        0\n",
      "4  1622952265       Fashion  United States      Failed        3\n"
     ]
    }
   ],
   "source": [
    "from sklearn.cluster import KMeans\n",
    "import matplotlib.pyplot as plt\n",
    "\n",
    "# Elbow method to determine optimal k\n",
    "inertia = []\n",
    "k_range = range(2, 11)  # Testing k from 2 to 10\n",
    "for k in k_range:\n",
    "    kmeans = KMeans(n_clusters=k, random_state=42)\n",
    "    kmeans.fit(X_scaled)\n",
    "    inertia.append(kmeans.inertia_)\n",
    "\n",
    "# Plot the elbow curve\n",
    "plt.figure(figsize=(8, 5))\n",
    "plt.plot(k_range, inertia, marker='o')\n",
    "plt.xlabel('Number of Clusters (k)')\n",
    "plt.ylabel('Inertia')\n",
    "plt.title('Elbow Method for Optimal k')\n",
    "plt.show()\n",
    "\n",
    "# Choose k (e.g., 5) based on the elbow plot and fit the model\n",
    "k = 5  # Adjust this based on your elbow plot\n",
    "kmeans = KMeans(n_clusters=k, random_state=42)\n",
    "df['cluster'] = kmeans.fit_predict(X_scaled)\n",
    "\n",
    "# Verify cluster assignment\n",
    "print(df[['id', 'category', 'country', 'state', 'cluster']].head())"
   ]
  },
  {
   "cell_type": "markdown",
   "metadata": {},
   "source": [
    "## Step 4: Explore Clustering Outcomes\n",
    "Now that we have cluster labels, let’s explore what they mean. We’ll look at the size of each cluster, the success rate within each cluster, and some summary statistics to understand the groupings."
   ]
  },
  {
   "cell_type": "code",
   "execution_count": 9,
   "metadata": {},
   "outputs": [
    {
     "name": "stdout",
     "output_type": "stream",
     "text": [
      "Cluster sizes:\n",
      "cluster\n",
      "1    86472\n",
      "4    84735\n",
      "3    81677\n",
      "0    43857\n",
      "2    34627\n",
      "Name: count, dtype: int64\n",
      "\n",
      "Success rate per cluster:\n",
      "cluster\n",
      "0    0.288118\n",
      "1    0.396209\n",
      "2    0.298351\n",
      "3    0.580274\n",
      "4    0.344509\n",
      "Name: state, dtype: float64\n",
      "\n",
      "Summary statistics by cluster:\n",
      "         log_goal   duration  launch_month  launch_year   \n",
      "cluster                                                   \n",
      "0        9.038282  57.727774      6.165242  2013.087740  \\\n",
      "1        8.714980  28.826094      3.281051  2015.129545   \n",
      "2        8.670476  32.697462      6.736535  2015.587085   \n",
      "3        7.617987  27.903608      6.757631  2012.744714   \n",
      "4        9.108736  29.360571      9.292040  2014.580492   \n",
      "\n",
      "         category_success_rate  country_success_rate  \n",
      "cluster                                               \n",
      "0                     0.413012              0.415632  \n",
      "1                     0.377054              0.416227  \n",
      "2                     0.372109              0.296523  \n",
      "3                     0.495819              0.416933  \n",
      "4                     0.350680              0.416276  \n"
     ]
    },
    {
     "data": {
      "image/png": "[encoded data removed]",
      "text/plain": [
       "<Figure size 800x500 with 1 Axes>"
      ]
     },
     "metadata": {},
     "output_type": "display_data"
    }
   ],
   "source": [
    "# Cluster sizes\n",
    "print(\"Cluster sizes:\")\n",
    "print(df['cluster'].value_counts())\n",
    "\n",
    "# Success rate per cluster\n",
    "cluster_success_rate = df.groupby('cluster')['state'].apply(lambda x: (x == 'Successful').mean())\n",
    "print(\"\\nSuccess rate per cluster:\")\n",
    "print(cluster_success_rate)\n",
    "\n",
    "# Summary statistics for each cluster\n",
    "print(\"\\nSummary statistics by cluster:\")\n",
    "cluster_summary = df.groupby('cluster')[features].mean()\n",
    "print(cluster_summary)\n",
    "\n",
    "# Optional: Visualize success rate by cluster\n",
    "cluster_success_rate.plot(kind='bar', figsize=(8, 5))\n",
    "plt.xlabel('Cluster')\n",
    "plt.ylabel('Success Rate')\n",
    "plt.title('Success Rate by Cluster')\n",
    "plt.show()"
   ]
  },
  {
   "cell_type": "markdown",
   "metadata": {},
   "source": [
    "# Step 5: Find Closest Projects for a Sample Input\n",
    "For your goal of providing the 5 closest failed and 5 closest successful projects, let’s simulate a new project input and find its nearest neighbors in the clustered data. We’ll use Euclidean distance on the scaled features."
   ]
  },
  {
   "cell_type": "code",
   "execution_count": 10,
   "metadata": {},
   "outputs": [
    {
     "name": "stdout",
     "output_type": "stream",
     "text": [
      "\n",
      "5 Closest Successful Projects:\n",
      "                                                     name    category   \n",
      "301292  A Wearable Charging Cable Bracelet That Disrup...  Technology  \\\n",
      "302598            Orion Sun Systems 1000W Solar Generator  Technology   \n",
      "302721  IllumiBowl: ANTI-GERM Toilet Night Light & 2X ...  Technology   \n",
      "303315  MODRN MAN Two-Step Skin Care & Grooming System...  Technology   \n",
      "303749  Antzy Top: An unusual gadget to help you destr...  Technology   \n",
      "\n",
      "              country   goal  pledged       state  distance_to_new  \n",
      "301292  United States  10000   134049  Successful         0.523811  \n",
      "302598  United States  10000    11709  Successful         0.523811  \n",
      "302721  United States  10000   105280  Successful         0.523811  \n",
      "303315  United States  10000    10591  Successful         0.523811  \n",
      "303749  United States  10000    31319  Successful         0.523811  \n",
      "\n",
      "5 Closest Failed Projects:\n",
      "                                                     name    category   \n",
      "300157  iPen: World's first flash drive pen with Light...  Technology  \\\n",
      "300414  Plantruth.com, a healthcare insurance ratings ...  Technology   \n",
      "300591                       FLOWE.green's WooD™ Project.  Technology   \n",
      "300608                      The Girl With The Magic Tummy  Technology   \n",
      "301144  HITGRIP improve your game with the ultimate hi...  Technology   \n",
      "\n",
      "              country   goal  pledged   state  distance_to_new  \n",
      "300157  United States  10000     2741  Failed         0.523811  \n",
      "300414  United States  10000        0  Failed         0.523811  \n",
      "300591  United States  10000     1270  Failed         0.523811  \n",
      "300608  United States  10000       10  Failed         0.523811  \n",
      "301144  United States  10000      225  Failed         0.523811  \n",
      "\n",
      "Most Distant Successful Project:\n",
      "                                                     name category country   \n",
      "232325  Marco Ragni new album featuring Durga McBroom ...    Music   Italy  \\\n",
      "\n",
      "        goal  pledged       state  distance_to_new  \n",
      "232325     1      904  Successful         8.624637  \n",
      "\n",
      "Most Distant Failed Project:\n",
      "                 name category country     goal  pledged   state   \n",
      "219882  ODEON CABARET  Theater   Italy  7711884      452  Failed  \\\n",
      "\n",
      "        distance_to_new  \n",
      "219882          8.55602  \n"
     ]
    }
   ],
   "source": [
    "from sklearn.metrics import pairwise_distances\n",
    "\n",
    "# Simulate a new project input (example values)\n",
    "new_project = {\n",
    "    'goal': 10000,  # $10,000 goal\n",
    "    'duration': 30,  # 30 days\n",
    "    'launch_month': 4,  # April\n",
    "    'launch_year': 2018,\n",
    "    'category': 'Technology',  # Map to its success rate\n",
    "    'country': 'United States'  # Map to its success rate\n",
    "}\n",
    "\n",
    "# Prepare the new project data\n",
    "new_project['log_goal'] = np.log1p(new_project['goal'])\n",
    "new_project['category_success_rate'] = category_success_rate[new_project['category']]\n",
    "new_project['country_success_rate'] = country_success_rate[new_project['country']]\n",
    "new_project_data = [new_project['log_goal'], new_project['duration'], new_project['launch_month'],\n",
    "                    new_project['launch_year'], new_project['category_success_rate'], new_project['country_success_rate']]\n",
    "\n",
    "# Scale the new project data\n",
    "new_project_scaled = scaler.transform([new_project_data])\n",
    "\n",
    "\n",
    "# Calculate distances to all projects\n",
    "distances = pairwise_distances(new_project_scaled, X_scaled, metric='euclidean').flatten()\n",
    "\n",
    "# Add distances to the DataFrame\n",
    "df['distance_to_new'] = distances\n",
    "\n",
    "# Get 5 closest successful and failed projects\n",
    "closest_successful = df[df['state'] == 'Successful'].nsmallest(5, 'distance_to_new')\n",
    "closest_failed = df[df['state'] == 'Failed'].nsmallest(5, 'distance_to_new')\n",
    "\n",
    "# Get the most distant successful and failed projects\n",
    "most_distant_successful = df[df['state'] == 'Successful'].nlargest(1, 'distance_to_new')\n",
    "most_distant_failed = df[df['state'] == 'Failed'].nlargest(1, 'distance_to_new')\n",
    "\n",
    "# Display results\n",
    "print(\"\\n5 Closest Successful Projects:\")\n",
    "print(closest_successful[['name', 'category', 'country', 'goal', 'pledged', 'state', 'distance_to_new']])\n",
    "print(\"\\n5 Closest Failed Projects:\")\n",
    "print(closest_failed[['name', 'category', 'country', 'goal', 'pledged', 'state', 'distance_to_new']])\n",
    "print(\"\\nMost Distant Successful Project:\")\n",
    "print(most_distant_successful[['name', 'category', 'country', 'goal', 'pledged', 'state', 'distance_to_new']])\n",
    "print(\"\\nMost Distant Failed Project:\")\n",
    "print(most_distant_failed[['name', 'category', 'country', 'goal', 'pledged', 'state', 'distance_to_new']])\n",
    "\n"
   ]
  },
  {
   "cell_type": "markdown",
   "metadata": {},
   "source": [
    "## Step 6: Generate Links to the Closest Successful and Failed Projects\n",
    "After identifying the 5 closest successful and 5 closest failed projects in Step 5 based on clustering and distance, we’ll generate hypothetical Kickstarter links for these projects using their id and a slugified version of their name. This will allow users to explore these similar projects directly."
   ]
  },
  {
   "cell_type": "code",
   "execution_count": 11,
   "metadata": {},
   "outputs": [
    {
     "name": "stdout",
     "output_type": "stream",
     "text": [
      "\n",
      "5 Closest Successful Projects with Search Links:\n",
      "                                                     name    category   \n",
      "301292  A Wearable Charging Cable Bracelet That Disrup...  Technology  \\\n",
      "302598            Orion Sun Systems 1000W Solar Generator  Technology   \n",
      "302721  IllumiBowl: ANTI-GERM Toilet Night Light & 2X ...  Technology   \n",
      "303315  MODRN MAN Two-Step Skin Care & Grooming System...  Technology   \n",
      "303749  Antzy Top: An unusual gadget to help you destr...  Technology   \n",
      "\n",
      "              country   goal  pledged       state  distance_to_new   \n",
      "301292  United States  10000   134049  Successful         0.523811  \\\n",
      "302598  United States  10000    11709  Successful         0.523811   \n",
      "302721  United States  10000   105280  Successful         0.523811   \n",
      "303315  United States  10000    10591  Successful         0.523811   \n",
      "303749  United States  10000    31319  Successful         0.523811   \n",
      "\n",
      "                                              search_link  \n",
      "301292  https://www.kickstarter.com/discover/advanced?...  \n",
      "302598  https://www.kickstarter.com/discover/advanced?...  \n",
      "302721  https://www.kickstarter.com/discover/advanced?...  \n",
      "303315  https://www.kickstarter.com/discover/advanced?...  \n",
      "303749  https://www.kickstarter.com/discover/advanced?...  \n",
      "\n",
      "5 Closest Failed Projects with Search Links:\n",
      "                                                     name    category   \n",
      "300157  iPen: World's first flash drive pen with Light...  Technology  \\\n",
      "300414  Plantruth.com, a healthcare insurance ratings ...  Technology   \n",
      "300591                       FLOWE.green's WooD™ Project.  Technology   \n",
      "300608                      The Girl With The Magic Tummy  Technology   \n",
      "301144  HITGRIP improve your game with the ultimate hi...  Technology   \n",
      "\n",
      "              country   goal  pledged   state  distance_to_new   \n",
      "300157  United States  10000     2741  Failed         0.523811  \\\n",
      "300414  United States  10000        0  Failed         0.523811   \n",
      "300591  United States  10000     1270  Failed         0.523811   \n",
      "300608  United States  10000       10  Failed         0.523811   \n",
      "301144  United States  10000      225  Failed         0.523811   \n",
      "\n",
      "                                              search_link  \n",
      "300157  https://www.kickstarter.com/discover/advanced?...  \n",
      "300414  https://www.kickstarter.com/discover/advanced?...  \n",
      "300591  https://www.kickstarter.com/discover/advanced?...  \n",
      "300608  https://www.kickstarter.com/discover/advanced?...  \n",
      "301144  https://www.kickstarter.com/discover/advanced?...  \n",
      "\n",
      "Clickable Links for Closest Successful Projects:\n"
     ]
    },
    {
     "data": {
      "text/html": [
       "<table border=\"1\" class=\"dataframe\">\n",
       "  <thead>\n",
       "    <tr style=\"text-align: right;\">\n",
       "      <th></th>\n",
       "      <th>name</th>\n",
       "      <th>search_link</th>\n",
       "    </tr>\n",
       "  </thead>\n",
       "  <tbody>\n",
       "    <tr>\n",
       "      <th>301292</th>\n",
       "      <td>A Wearable Charging Cable Bracelet That Disrupting The World</td>\n",
       "      <td><a href=\"https://www.kickstarter.com/discover/advanced?ref=nav_search&term=A%20Wearable%20Charging%20Cable%20Bracelet%20That%20Disrupting%20The%20World\" target=\"_blank\">https://www.kickstarter.com/discover/advanced?ref=nav_search&term=A%20Wearable%20Charging%20Cable%20Bracelet%20That%20Disrupting%20The%20World</a></td>\n",
       "    </tr>\n",
       "    <tr>\n",
       "      <th>302598</th>\n",
       "      <td>Orion Sun Systems 1000W Solar Generator</td>\n",
       "      <td><a href=\"https://www.kickstarter.com/discover/advanced?ref=nav_search&term=Orion%20Sun%20Systems%201000W%20Solar%20Generator\" target=\"_blank\">https://www.kickstarter.com/discover/advanced?ref=nav_search&term=Orion%20Sun%20Systems%201000W%20Solar%20Generator</a></td>\n",
       "    </tr>\n",
       "    <tr>\n",
       "      <th>302721</th>\n",
       "      <td>IllumiBowl: ANTI-GERM Toilet Night Light & 2X battery Life!</td>\n",
       "      <td><a href=\"https://www.kickstarter.com/discover/advanced?ref=nav_search&term=IllumiBowl%3A%20ANTI-GERM%20Toilet%20Night%20Light%20%26%202X%20battery%20Life%21\" target=\"_blank\">https://www.kickstarter.com/discover/advanced?ref=nav_search&term=IllumiBowl%3A%20ANTI-GERM%20Toilet%20Night%20Light%20%26%202X%20battery%20Life%21</a></td>\n",
       "    </tr>\n",
       "    <tr>\n",
       "      <th>303315</th>\n",
       "      <td>MODRN MAN Two-Step Skin Care & Grooming System for Men</td>\n",
       "      <td><a href=\"https://www.kickstarter.com/discover/advanced?ref=nav_search&term=MODRN%20MAN%20Two-Step%20Skin%20Care%20%26%20Grooming%20System%20for%20Men\" target=\"_blank\">https://www.kickstarter.com/discover/advanced?ref=nav_search&term=MODRN%20MAN%20Two-Step%20Skin%20Care%20%26%20Grooming%20System%20for%20Men</a></td>\n",
       "    </tr>\n",
       "    <tr>\n",
       "      <th>303749</th>\n",
       "      <td>Antzy Top: An unusual gadget to help you destress and focus</td>\n",
       "      <td><a href=\"https://www.kickstarter.com/discover/advanced?ref=nav_search&term=Antzy%20Top%3A%20An%20unusual%20gadget%20to%20help%20you%20destress%20and%20focus\" target=\"_blank\">https://www.kickstarter.com/discover/advanced?ref=nav_search&term=Antzy%20Top%3A%20An%20unusual%20gadget%20to%20help%20you%20destress%20and%20focus</a></td>\n",
       "    </tr>\n",
       "  </tbody>\n",
       "</table>"
      ],
      "text/plain": [
       "<IPython.core.display.HTML object>"
      ]
     },
     "metadata": {},
     "output_type": "display_data"
    },
    {
     "name": "stdout",
     "output_type": "stream",
     "text": [
      "\n",
      "Clickable Links for Closest Failed Projects:\n"
     ]
    },
    {
     "data": {
      "text/html": [
       "<table border=\"1\" class=\"dataframe\">\n",
       "  <thead>\n",
       "    <tr style=\"text-align: right;\">\n",
       "      <th></th>\n",
       "      <th>name</th>\n",
       "      <th>search_link</th>\n",
       "    </tr>\n",
       "  </thead>\n",
       "  <tbody>\n",
       "    <tr>\n",
       "      <th>300157</th>\n",
       "      <td>iPen: World's first flash drive pen with Lightning connector</td>\n",
       "      <td><a href=\"https://www.kickstarter.com/discover/advanced?ref=nav_search&term=iPen%3A%20World%27s%20first%20flash%20drive%20pen%20with%20Lightning%20connector\" target=\"_blank\">https://www.kickstarter.com/discover/advanced?ref=nav_search&term=iPen%3A%20World%27s%20first%20flash%20drive%20pen%20with%20Lightning%20connector</a></td>\n",
       "    </tr>\n",
       "    <tr>\n",
       "      <th>300414</th>\n",
       "      <td>Plantruth.com, a healthcare insurance ratings website.</td>\n",
       "      <td><a href=\"https://www.kickstarter.com/discover/advanced?ref=nav_search&term=Plantruth.com%2C%20a%20healthcare%20insurance%20ratings%20website.\" target=\"_blank\">https://www.kickstarter.com/discover/advanced?ref=nav_search&term=Plantruth.com%2C%20a%20healthcare%20insurance%20ratings%20website.</a></td>\n",
       "    </tr>\n",
       "    <tr>\n",
       "      <th>300591</th>\n",
       "      <td>FLOWE.green's WooD™ Project.</td>\n",
       "      <td><a href=\"https://www.kickstarter.com/discover/advanced?ref=nav_search&term=FLOWE.green%27s%20WooD%E2%84%A2%20Project.\" target=\"_blank\">https://www.kickstarter.com/discover/advanced?ref=nav_search&term=FLOWE.green%27s%20WooD%E2%84%A2%20Project.</a></td>\n",
       "    </tr>\n",
       "    <tr>\n",
       "      <th>300608</th>\n",
       "      <td>The Girl With The Magic Tummy</td>\n",
       "      <td><a href=\"https://www.kickstarter.com/discover/advanced?ref=nav_search&term=The%20Girl%20With%20The%20Magic%20Tummy\" target=\"_blank\">https://www.kickstarter.com/discover/advanced?ref=nav_search&term=The%20Girl%20With%20The%20Magic%20Tummy</a></td>\n",
       "    </tr>\n",
       "    <tr>\n",
       "      <th>301144</th>\n",
       "      <td>HITGRIP improve your game with the ultimate hitting tool</td>\n",
       "      <td><a href=\"https://www.kickstarter.com/discover/advanced?ref=nav_search&term=HITGRIP%20improve%20your%20game%20with%20the%20ultimate%20hitting%20tool\" target=\"_blank\">https://www.kickstarter.com/discover/advanced?ref=nav_search&term=HITGRIP%20improve%20your%20game%20with%20the%20ultimate%20hitting%20tool</a></td>\n",
       "    </tr>\n",
       "  </tbody>\n",
       "</table>"
      ],
      "text/plain": [
       "<IPython.core.display.HTML object>"
      ]
     },
     "metadata": {},
     "output_type": "display_data"
    }
   ],
   "source": [
    "import urllib.parse\n",
    "\n",
    "# Function to create a Kickstarter search URL from project name\n",
    "def create_search_url(project_name):\n",
    "    # URL-encode the project name to handle spaces and special characters\n",
    "    encoded_name = urllib.parse.quote(project_name)\n",
    "    return f\"https://www.kickstarter.com/discover/advanced?ref=nav_search&term={encoded_name}\"\n",
    "\n",
    "# Generate search URLs for the closest successful and failed projects\n",
    "closest_successful[\"search_link\"] = closest_successful[\"name\"].apply(create_search_url)\n",
    "closest_failed[\"search_link\"] = closest_failed[\"name\"].apply(create_search_url)\n",
    "\n",
    "# Display results with search links\n",
    "print(\"\\n5 Closest Successful Projects with Search Links:\")\n",
    "print(closest_successful[['name', 'category', 'country', 'goal', 'pledged', 'state', 'distance_to_new', 'search_link']])\n",
    "print(\"\\n5 Closest Failed Projects with Search Links:\")\n",
    "print(closest_failed[['name', 'category', 'country', 'goal', 'pledged', 'state', 'distance_to_new', 'search_link']])\n",
    "\n",
    "# Optional: Display clickable links in Jupyter Notebook\n",
    "from IPython.display import display, HTML\n",
    "successful_html = closest_successful[['name', 'search_link']].copy()\n",
    "successful_html['search_link'] = successful_html['search_link'].apply(lambda x: f'<a href=\"{x}\" target=\"_blank\">{x}</a>')\n",
    "failed_html = closest_failed[['name', 'search_link']].copy()\n",
    "failed_html['search_link'] = failed_html['search_link'].apply(lambda x: f'<a href=\"{x}\" target=\"_blank\">{x}</a>')\n",
    "\n",
    "print(\"\\nClickable Links for Closest Successful Projects:\")\n",
    "display(HTML(successful_html.to_html(escape=False)))\n",
    "print(\"\\nClickable Links for Closest Failed Projects:\")\n",
    "display(HTML(failed_html.to_html(escape=False)))"
   ]
  },
  {
   "cell_type": "code",
   "execution_count": 16,
   "metadata": {},
   "outputs": [],
   "source": [
    "import joblib\n",
    "\n",
    "# Save the scaler\n",
    "joblib.dump(scaler, '../model/cluster_scaler.joblib')\n",
    "\n",
    "# Save category and country success rates (if not precomputed elsewhere)\n",
    "import pickle\n",
    "with open('../model/category_success_rate.pkl', 'wb') as f:\n",
    "    pickle.dump(category_success_rate, f)\n",
    "with open('../model/country_success_rate.pkl', 'wb') as f:\n",
    "    pickle.dump(country_success_rate, f)\n",
    "    \n",
    "df.to_csv('../data/kickstarter_cluster_data.csv', index=False)"
   ]
  }
 ],
 "metadata": {
  "kernelspec": {
   "display_name": ".venv",
   "language": "python",
   "name": "python3"
  },
  "language_info": {
   "codemirror_mode": {
    "name": "ipython",
    "version": 3
   },
   "file_extension": ".py",
   "mimetype": "text/x-python",
   "name": "python",
   "nbconvert_exporter": "python",
   "pygments_lexer": "ipython3",
   "version": "3.11.3"
  }
 },
 "nbformat": 4,
 "nbformat_minor": 2
}
