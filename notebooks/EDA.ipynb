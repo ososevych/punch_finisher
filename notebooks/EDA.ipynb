{
 "cells": [
  {
   "cell_type": "code",
   "execution_count": null,
   "metadata": {},
   "outputs": [],
   "source": [
    "#Imports\n",
    "\n",
    "import pandas as pd\n",
    "import numpy as np\n",
    "import matplotlib.pyplot as plt\n",
    "import seaborn as sns\n",
    "import warnings\n",
    "import matplotlib.pyplot as plt\n",
    "\n",
    "import seaborn as sns\n",
    "\n",
    "warnings.filterwarnings('ignore')\n",
    "\n",
    "plt.style.use('fivethirtyeight')\n"
   ]
  },
  {
   "cell_type": "code",
   "execution_count": null,
   "metadata": {},
   "outputs": [],
   "source": [
    "df = pd.read_csv(\"../data/kickstarter_projects.csv\")\n",
    "df.head()\n",
    "\n",
    "\n",
    "# Convert all column names to lower case\n",
    "df.columns = df.columns.str.lower()\n",
    "\n",
    "# Count the number of unique values for each column\n",
    "unique_counts = df.nunique()\n",
    "\n",
    "df.columns.value_counts\n",
    "df.nunique()"
   ]
  },
  {
   "cell_type": "code",
   "execution_count": null,
   "metadata": {},
   "outputs": [],
   "source": [
    "df.head()\n",
    "\n",
    "df.isna().value_counts()\n",
    "#\n"
   ]
  },
  {
   "cell_type": "code",
   "execution_count": null,
   "metadata": {},
   "outputs": [],
   "source": [
    "df_clean=df\n",
    "\n",
    "# Convert appropriate columns to correct data types\n",
    "df_clean['launched'] = pd.to_datetime(df_clean['launched'], errors='coerce')\n",
    "df_clean['deadline'] = pd.to_datetime(df_clean['deadline'], errors='coerce')\n",
    "df_clean['goal'] = pd.to_numeric(df['goal'], errors='coerce')\n",
    "df_clean['pledged'] = pd.to_numeric(df_clean['pledged'], errors='coerce')\n",
    "df_clean['backers'] = pd.to_numeric(df_clean['backers'], errors='coerce')\n",
    "\n",
    "\n",
    "# Recalculate pledge_ratio and pledge_backer ratio\n",
    "df_clean['pledge_ratio'] = df_clean['pledged'] / df_clean['goal']\n",
    "df_clean['ave_backer'] = df_clean['pledged'] / df_clean['backers']\n",
    "df_clean['backer_ratio_on_goal'] = (df_clean['goal']*df_clean['backers']) / df_clean['pledged']\n"
   ]
  },
  {
   "cell_type": "code",
   "execution_count": null,
   "metadata": {},
   "outputs": [],
   "source": [
    "df_clean.head()\n"
   ]
  },
  {
   "cell_type": "code",
   "execution_count": null,
   "metadata": {},
   "outputs": [],
   "source": [
    "print(df_clean.info())\n",
    "df_clean.describe(include='all')\n"
   ]
  },
  {
   "cell_type": "code",
   "execution_count": null,
   "metadata": {},
   "outputs": [],
   "source": [
    "df_clean.isnull().sum()"
   ]
  },
  {
   "cell_type": "code",
   "execution_count": null,
   "metadata": {},
   "outputs": [],
   "source": []
  },
  {
   "cell_type": "code",
   "execution_count": null,
   "metadata": {},
   "outputs": [],
   "source": [
    "df_clean[df_clean['pledge_ratio'].isna()]"
   ]
  },
  {
   "cell_type": "code",
   "execution_count": null,
   "metadata": {},
   "outputs": [],
   "source": [
    "ax = df_clean['state'].value_counts(normalize=True).plot(kind='barh', title='Project Outcome Distribution')\n",
    "\n",
    "# Add x-axis label\n",
    "ax.set_xlabel('Relative Number of Projects in %')\n",
    "\n",
    "plt.tight_layout()\n",
    "plt.show()"
   ]
  },
  {
   "cell_type": "code",
   "execution_count": null,
   "metadata": {},
   "outputs": [],
   "source": [
    "\n",
    "ax = df_clean['state'].value_counts(normalize=False).plot(\n",
    "    kind='barh',\n",
    "    title='Project Outcome Distribution'\n",
    "    )\n",
    "\n",
    "# Set custom ticks manually\n",
    "max_value = df_clean['state'].value_counts().max()\n",
    "ticks = list(range(0, max_value + 50000, 50000))\n",
    "labels = [str(int(t / 1000)) for t in ticks]\n",
    "\n",
    "ax.set_xticks(ticks)\n",
    "ax.set_xticklabels(labels)\n",
    "\n",
    "# Add x-axis label\n",
    "ax.set_xlabel('Number of Projects (in 1,000s)')\n",
    "\n",
    "plt.tight_layout()\n",
    "plt.show()"
   ]
  },
  {
   "cell_type": "code",
   "execution_count": null,
   "metadata": {},
   "outputs": [],
   "source": [
    "# Select only numeric columns for histogram\n",
    "numeric_cols = df_clean.select_dtypes(include=['number', 'datetime']).columns\n",
    "\n",
    "# Drop columns with too many NaNs if necessary (optional)\n",
    "# numeric_cols = [col for col in numeric_cols if df_clean[col].notna().sum() > 10]\n",
    "\n",
    "# Plot histograms\n",
    "df_clean[numeric_cols].hist(bins=30, figsize=(18, 12), edgecolor='black')\n",
    "plt.suptitle(\"Histograms of Numeric Features\", fontsize=16)\n",
    "plt.tight_layout()\n",
    "plt.show()"
   ]
  },
  {
   "cell_type": "code",
   "execution_count": null,
   "metadata": {},
   "outputs": [],
   "source": [
    "df_clean.columns"
   ]
  },
  {
   "cell_type": "code",
   "execution_count": null,
   "metadata": {},
   "outputs": [],
   "source": [
    "# Set up a vertical stack of 7 plots\n",
    "fig, axs = plt.subplots(7, 1, figsize=(12, 24))\n",
    "fig.suptitle(\"Feature Distributions (Log Scale Where Applicable)\", fontsize=20)\n",
    "\n",
    "# Plot 1: goal\n",
    "sns.histplot(np.log1p(df_clean['goal']), bins=50, ax=axs[0])\n",
    "axs[0].set_title('log(1 + Goal)')\n",
    "axs[0].set_xlabel('log(1 + goal)')\n",
    "\n",
    "# Plot 2: pledged\n",
    "sns.histplot(np.log1p(df_clean['pledged']), bins=50, ax=axs[1])\n",
    "axs[1].set_title('log(1 + Pledged)')\n",
    "axs[1].set_xlabel('log(1 + pledged)')\n",
    "\n",
    "# Plot 3: backers\n",
    "sns.histplot(np.log1p(df_clean['backers']), bins=50, ax=axs[2])\n",
    "axs[2].set_title('log(1 + Backers)')\n",
    "axs[2].set_xlabel('log(1 + backers)')\n",
    "\n",
    "# Plot 4: state (categorical count)\n",
    "sns.countplot(x='state', data=df_clean, ax=axs[3])\n",
    "axs[3].set_title('Project States')\n",
    "axs[3].set_xlabel('State')\n",
    "\n",
    "# Plot 5: pledge_ratio\n",
    "sns.histplot(np.log1p(df_clean['pledge_ratio']), bins=500, ax=axs[4])\n",
    "axs[4].set_title('log(1 + Pledge Ratio)')\n",
    "axs[4].set_xlabel('log(0.001 + pledge_ratio)')\n",
    "axs[4].set_xlim(left=1e-3, right=np.log1p(2.0))\n",
    "\n",
    "# Plot 6: ave_backer\n",
    "sns.histplot(np.log1p(df_clean['ave_backer']), bins=50, ax=axs[5])\n",
    "axs[5].set_title('log(1 + Average Pledge per Backer)')\n",
    "axs[5].set_xlabel('log(1 + ave_backer)')\n",
    "\n",
    "# Plot 7: backer_ratio_on_goal\n",
    "sns.histplot(np.log1p(df_clean['backer_ratio_on_goal']), bins=50, ax=axs[6])\n",
    "axs[6].set_title('log(1 + Backer Ratio on Goal)')\n",
    "axs[6].set_xlabel('log(1 + backer_ratio_on_goal)')\n",
    "\n",
    "plt.tight_layout(rect=[0, 0, 1, 0.96])\n",
    "plt.show()\n",
    "\n"
   ]
  },
  {
   "cell_type": "code",
   "execution_count": null,
   "metadata": {},
   "outputs": [],
   "source": [
    "plt.figure(figsize=(10, 6))\n",
    "sns.histplot(np.log1p(df_clean['pledged']), bins=50, edgecolor='black')\n",
    "plt.title(\"Log-Scaled Distribution of Pledged Amounts\")\n",
    "plt.xlabel(\"log(1 + Pledged Amount)\")\n",
    "plt.ylabel(\"Number of Projects\")\n",
    "plt.tight_layout()\n",
    "plt.show()"
   ]
  },
  {
   "cell_type": "code",
   "execution_count": null,
   "metadata": {},
   "outputs": [],
   "source": [
    "sns.heatmap(df_clean.corr(numeric_only=True), annot=True, cmap='coolwarm', fmt=\".2f\")\n",
    "plt.title(\"Correlation Matrix\")"
   ]
  },
  {
   "cell_type": "markdown",
   "metadata": {},
   "source": [
    "#pledged# is highl correlated with \"backers\" - so, what is the typical average pledge per baker ? I calculated this. And then also the backer ratio on goal... to see, whether higher goals are resulting on higher pledges..."
   ]
  },
  {
   "cell_type": "code",
   "execution_count": null,
   "metadata": {},
   "outputs": [],
   "source": [
    "df_clean.head()"
   ]
  },
  {
   "cell_type": "code",
   "execution_count": null,
   "metadata": {},
   "outputs": [],
   "source": [
    "#df_clean = df_clean[df_clean['state'].notna()]\n",
    "\n",
    "#sns.pairplot(df_clean[['goal', 'pledged', 'backers', 'pledge_ratio', 'ave_backer', 'state']], hue='state')\n",
    "#plt.suptitle(\"Pairplot by Project State\", y=1.02)"
   ]
  },
  {
   "cell_type": "code",
   "execution_count": null,
   "metadata": {},
   "outputs": [],
   "source": [
    "df_clean.groupby('state')[['pledge_ratio', 'ave_backer', 'goal']].median().T.plot(kind='bar')\n",
    "plt.title(\"Feature Medians by Project State\")"
   ]
  },
  {
   "cell_type": "code",
   "execution_count": null,
   "metadata": {},
   "outputs": [],
   "source": [
    "sns.boxplot(x='state', y=(df_clean['goal']/df_clean['backers']), data=df_clean)\n"
   ]
  },
  {
   "cell_type": "code",
   "execution_count": null,
   "metadata": {},
   "outputs": [],
   "source": [
    "sns.violinplot(x='state', y='backers', data=df_clean)"
   ]
  },
  {
   "cell_type": "code",
   "execution_count": null,
   "metadata": {},
   "outputs": [],
   "source": [
    "top_cats = df_clean['category'].value_counts().head(10)\n",
    "success_counts = df_clean[df_clean['state'] == 'Successful']['category'].value_counts()\n",
    "\n",
    "# Reindex success_counts to align with top_cats\n",
    "success_rate = success_counts.reindex(top_cats.index) / top_cats\n",
    "\n",
    "# Plot the success rates\n",
    "success_rate.plot(kind='bar', title='Success Rate of Top Categories')\n",
    "plt.ylabel(\"Success Rate\")\n",
    "plt.tight_layout()\n",
    "plt.show()"
   ]
  },
  {
   "cell_type": "code",
   "execution_count": null,
   "metadata": {},
   "outputs": [],
   "source": [
    "df_clean['duration_days'] = (df_clean['deadline'] - df_clean['launched']).dt.days\n",
    "sns.boxplot(x='state', y='duration_days', data=df_clean)\n",
    "country_success = df_clean[df_clean['state'] == 'Successful']['country'].value_counts()\n",
    "country_total = df_clean['country'].value_counts()\n",
    "(country_success / country_total).sort_values(ascending=False).head(5).plot(kind='bar', title='Success Rate by Country')\n"
   ]
  },
  {
   "cell_type": "code",
   "execution_count": null,
   "metadata": {},
   "outputs": [],
   "source": [
    "df_clean['launch_month'] = df_clean['launched'].dt.to_period('M')\n",
    "df_clean['launch_month'].value_counts().sort_index().plot(kind='line', title='Projects Launched Over Time')"
   ]
  },
  {
   "cell_type": "code",
   "execution_count": null,
   "metadata": {},
   "outputs": [],
   "source": [
    "# Recreate launch_month just in case\n",
    "df_clean['launch_month'] = pd.to_datetime(df_clean['launched'], errors='coerce').dt.to_period('M')\n",
    "\n",
    "# Filter successful projects and drop NaNs\n",
    "successful = df_clean[df_clean['state'] == 'successful'].copy()\n",
    "successful = successful[successful['launch_month'].notna()]\n",
    "\n",
    "# Count successful projects per month\n",
    "success_per_month = successful['launch_month'].value_counts().sort_index()\n",
    "\n",
    "# Only plot if data exists\n",
    "if not success_per_month.empty:\n",
    "    success_per_month.plot(kind='line', title='Successful Projects Over Time')\n",
    "    plt.xlabel('Launch Month')\n",
    "    plt.ylabel('Number of Successful Projects')\n",
    "    plt.tight_layout()\n",
    "    plt.show()\n",
    "else:\n",
    "    print(\"No successful projects with valid launch dates found.\")"
   ]
  },
  {
   "cell_type": "code",
   "execution_count": null,
   "metadata": {},
   "outputs": [],
   "source": [
    "df_clean.groupby('category')[['pledged', 'goal']].median().sort_values('pledged').plot(kind='bar', title='Median Pledged/Goal by Category')\n"
   ]
  },
  {
   "cell_type": "code",
   "execution_count": null,
   "metadata": {},
   "outputs": [],
   "source": [
    "pivot = pd.crosstab(df_clean['category'], df_clean['state'], normalize='index')\n",
    "sns.heatmap(pivot, annot=True, cmap='YlGnBu')"
   ]
  },
  {
   "cell_type": "code",
   "execution_count": null,
   "metadata": {},
   "outputs": [],
   "source": [
    "plt.figure(figsize=(10, 6))\n",
    "sns.histplot(np.log1p(df_clean['pledged']), bins=50)\n",
    "plt.title(\"Distribution of Log-Transformed Pledged Amounts\")\n",
    "plt.xlabel(\"log(1 + Pledged Amount)\")\n",
    "plt.ylabel(\"Number of Projects\")\n",
    "plt.tight_layout()\n",
    "plt.show()"
   ]
  },
  {
   "cell_type": "code",
   "execution_count": null,
   "metadata": {},
   "outputs": [],
   "source": [
    "sns.scatterplot(x='backers', y=np.log1p(df_clean['pledge_ratio']), hue='state', data=df_clean, alpha=0.5)\n"
   ]
  },
  {
   "cell_type": "code",
   "execution_count": null,
   "metadata": {},
   "outputs": [],
   "source": [
    "# Define bins and labels\n",
    "goal_bins = [0, 100, 1_000, 10_000, 100_000, 1_000_000, df_clean['goal'].max()]\n",
    "goal_labels = ['<100', '100-1k', '1k–10k', '10k–100k', '100k–1M', '>1M']\n",
    "\n",
    "# Create new column\n",
    "df_clean['goal_bin'] = pd.cut(df_clean['goal'], bins=goal_bins, labels=goal_labels, include_lowest=True)\n",
    "sns.countplot(data=df_clean, x='goal_bin', hue='state')\n",
    "plt.title(\"Project Outcomes by Goal Range\")\n",
    "plt.xlabel(\"Goal Range (log steps)\")\n",
    "plt.ylabel(\"Number of Projects\")\n",
    "plt.tight_layout()\n",
    "plt.show()"
   ]
  },
  {
   "cell_type": "code",
   "execution_count": null,
   "metadata": {},
   "outputs": [],
   "source": [
    "# Cross-tab and normalize\n",
    "goal_state_dist = pd.crosstab(df_clean['goal_bin'], df_clean['state'], normalize='index')\n",
    "\n",
    "# Plot as stacked bar\n",
    "goal_state_dist.plot(kind='bar', stacked=True, colormap='viridis')\n",
    "plt.title(\"Project Outcome Proportion by Goal Bin\")\n",
    "plt.xlabel(\"Goal Range (log steps)\")\n",
    "plt.ylabel(\"Proportion of Outcomes\")\n",
    "plt.legend(title='State', bbox_to_anchor=(1.05, 1), loc='upper left')\n",
    "plt.tight_layout()\n",
    "plt.show()"
   ]
  },
  {
   "cell_type": "code",
   "execution_count": null,
   "metadata": {},
   "outputs": [],
   "source": [
    "import seaborn as sns\n",
    "import matplotlib.pyplot as plt\n",
    "import pandas as pd\n",
    "\n",
    "# Define log-scaled goal bins\n",
    "goal_bins = [0, 1_000, 10_000, 100_000, 1_000_000, df_clean['goal'].max()]\n",
    "goal_labels = ['<1k', '1k–10k', '10k–100k', '100k–1M', '>1M']\n",
    "\n",
    "# Create the binned column (if not already created)\n",
    "df_clean['goal_bin'] = pd.cut(df_clean['goal'], bins=goal_bins, labels=goal_labels, include_lowest=True)\n",
    "\n",
    "# Remove NaNs and extreme pledge_ratio outliers (optional but recommended)\n",
    "df_box = df_clean[df_clean['pledge_ratio'].notna() & df_clean['goal_bin'].notna()]\n",
    "df_box = df_box[df_box['pledge_ratio'] < 10]  # Filter for visibility\n",
    "\n",
    "# Create the boxplot\n",
    "plt.figure(figsize=(10, 6))\n",
    "sns.boxplot(data=df_box, x='goal_bin', y='pledge_ratio', hue='state')\n",
    "plt.title('Pledge Ratio Distribution by Goal Bin and State')\n",
    "plt.xlabel('Goal Range (log steps)')\n",
    "plt.ylabel('Pledge Ratio (Pledged / Goal)')\n",
    "plt.legend(title='State', bbox_to_anchor=(1.05, 1), loc='upper left')\n",
    "plt.tight_layout()\n",
    "plt.show()"
   ]
  },
  {
   "cell_type": "code",
   "execution_count": null,
   "metadata": {},
   "outputs": [],
   "source": [
    "df_box = df_clean[df_clean['pledge_ratio'].notna() & df_clean['goal_bin'].notna()]\n",
    "df_box = df_box[df_box['pledge_ratio'] <= 2]\n",
    "\n",
    "# Define goal bins\n",
    "goal_bins = [0, 1_000, 10_000, 100_000, 1_000_000, df_clean['goal'].max()]\n",
    "goal_labels = ['<1k', '1k–10k', '10k–100k', '100k–1M', '>1M']\n",
    "df_clean['goal_bin'] = pd.cut(df_clean['goal'], bins=goal_bins, labels=goal_labels, include_lowest=True)\n",
    "\n",
    "# Filter data and outliers\n",
    "df_box = df_clean[df_clean['pledge_ratio'].notna() & df_clean['goal_bin'].notna()]\n",
    "df_box = df_box[df_box['pledge_ratio'] <= 2]\n",
    "\n",
    "# Plot\n",
    "plt.figure(figsize=(10, 6))\n",
    "plt.ylim(0, 2)\n",
    "sns.boxplot(data=df_box, x='goal_bin', y='pledge_ratio', hue='state')\n",
    "plt.ylim(0, 2)\n",
    "plt.title('Pledge Ratio by Goal Bin and State (Capped at 2)')\n",
    "plt.xlabel('Goal Range (log steps)')\n",
    "plt.ylabel('Pledge Ratio (Pledged / Goal)')\n",
    "plt.legend(title='State', bbox_to_anchor=(1.05, 1), loc='upper left')\n",
    "plt.tight_layout()\n",
    "plt.show()"
   ]
  },
  {
   "cell_type": "code",
   "execution_count": null,
   "metadata": {},
   "outputs": [],
   "source": [
    "import matplotlib.pyplot as plt\n",
    "import pandas as pd\n",
    "\n",
    "# Ensure 'launch_month' is correct\n",
    "df_clean['launch_month'] = pd.to_datetime(df_clean['launched'], errors='coerce').dt.to_period('M')\n",
    "\n",
    "# Group by month\n",
    "grouped = df_clean.groupby('launch_month')\n",
    "\n",
    "# Metrics\n",
    "total_projects = grouped.size()\n",
    "total_goal = grouped['goal'].sum()\n",
    "successful_projects = grouped['state'].apply(lambda x: (x == 'Successful').sum())\n",
    "failed_projects = grouped['state'].apply(lambda x: (x == 'Failed').sum())\n",
    "\n",
    "# Convert PeriodIndex to datetime for plotting\n",
    "x = total_projects.index.to_timestamp()\n",
    "\n",
    "# Plot\n",
    "fig, ax1 = plt.subplots(figsize=(14, 7))\n",
    "\n",
    "# Left y-axis\n",
    "ax1.plot(x, total_projects, label='Total Projects', color='tab:blue')\n",
    "ax1.plot(x, successful_projects, label='Successful Projects', color='tab:green')\n",
    "ax1.plot(x, failed_projects, label='Failed Projects', color='tab:red')\n",
    "ax1.set_ylabel(\"Number of Projects\")\n",
    "ax1.set_xlabel(\"Launch Month\")\n",
    "ax1.tick_params(axis='y')\n",
    "ax1.legend(loc='upper left')\n",
    "\n",
    "# Right y-axis for total goal amount\n",
    "ax2 = ax1.twinx()\n",
    "ax2.plot(x, total_goal, label='Total Goal Amount', color='tab:orange', linestyle='--')\n",
    "ax2.set_ylabel(\"Total Goal Amount (Currency)\")\n",
    "ax2.tick_params(axis='y', labelcolor='tab:orange')\n",
    "\n",
    "# Combine legends\n",
    "lines, labels = ax1.get_legend_handles_labels()\n",
    "lines2, labels2 = ax2.get_legend_handles_labels()\n",
    "ax1.legend(lines + lines2, labels + labels2, loc='upper center')\n",
    "\n",
    "plt.title(\"Kickstarter Project Metrics Over Time\")\n",
    "plt.tight_layout()\n",
    "plt.show()"
   ]
  },
  {
   "cell_type": "code",
   "execution_count": null,
   "metadata": {},
   "outputs": [],
   "source": [
    "###\n",
    "#duration_days\n",
    "#pledge_ratio\n",
    "#ave_backer\n",
    "#backer_ratio_on_goal\n",
    "###"
   ]
  },
  {
   "cell_type": "markdown",
   "metadata": {},
   "source": [
    "#### Objective: Build a model to predict the State of a Kickstarter project, which can be one of two classes: \"Failed\" or \"Successful\"."
   ]
  },
  {
   "cell_type": "markdown",
   "metadata": {},
   "source": [
    "### Step 1: Data Collection  & Initial Cleaning"
   ]
  },
  {
   "cell_type": "code",
   "execution_count": null,
   "metadata": {},
   "outputs": [],
   "source": [
    "df = pd.read_csv('../data/kickstarter_projects.csv')"
   ]
  },
  {
   "cell_type": "code",
   "execution_count": null,
   "metadata": {},
   "outputs": [],
   "source": [
    "# Basic Overview\n",
    "print(df.shape)\n",
    "print(df.info())"
   ]
  },
  {
   "cell_type": "code",
   "execution_count": null,
   "metadata": {},
   "outputs": [],
   "source": [
    "# Standardize column names\n",
    "df.columns = df.columns.str.lower()\n",
    "print(\"Column names:\", df.columns.tolist())"
   ]
  },
  {
   "cell_type": "code",
   "execution_count": null,
   "metadata": {},
   "outputs": [],
   "source": [
    "# Check duplicates\n",
    "print(\"Number of duplicate rows:\", df.duplicated().sum())"
   ]
  },
  {
   "cell_type": "code",
   "execution_count": null,
   "metadata": {},
   "outputs": [],
   "source": [
    "# Show state distribution (before filtering)\n",
    "state_dist = df['state'].value_counts(normalize=True) * 100\n",
    "print(\"Initial state distribution (%):\\n\", round(state_dist, 2))"
   ]
  },
  {
   "cell_type": "code",
   "execution_count": null,
   "metadata": {},
   "outputs": [],
   "source": [
    "# Filter only for 'Successful' and 'Failed' projects\n",
    "df = df[df['state'].isin(['Successful', 'Failed'])]\n",
    "print(\"After filtering:\", df.shape)\n",
    "print(\"Filtered state distribution (%):\\n\", round(df['state'].value_counts(normalize=True) * 100, 2))"
   ]
  },
  {
   "cell_type": "markdown",
   "metadata": {},
   "source": [
    "### Step 2: Exploratory Data Analysis (EDA)"
   ]
  },
  {
   "cell_type": "code",
   "execution_count": null,
   "metadata": {},
   "outputs": [],
   "source": [
    "# 1. State distribution\n",
    "plt.figure(figsize=(8, 4))\n",
    "sns.countplot(x='state', data=df)\n",
    "plt.title('Distribution of Kickstarter Project States')\n",
    "plt.xlabel('Project State')\n",
    "plt.ylabel('Number of Projects')\n",
    "plt.show()\n",
    "\n",
    "# 2. Goal by State\n",
    "plt.figure(figsize=(10, 5))\n",
    "sns.boxplot(x='state', y='goal', data=df)\n",
    "plt.title('Goal Amount by Project State')\n",
    "plt.show()\n",
    "\n",
    "# 3. Category vs State\n",
    "plt.figure(figsize=(14, 6))\n",
    "sns.countplot(x='category', hue='state', data=df, order=df['category'].value_counts().index)\n",
    "plt.title('Project State by Category')\n",
    "plt.xticks(rotation=45, ha='right')\n",
    "plt.tight_layout()\n",
    "plt.show()"
   ]
  },
  {
   "cell_type": "code",
   "execution_count": null,
   "metadata": {},
   "outputs": [],
   "source": [
    "# Duration Feature Engineering\n",
    "df['launched'] = pd.to_datetime(df['launched'])\n",
    "df['deadline'] = pd.to_datetime(df['deadline'])\n",
    "df['duration'] = (df['deadline'] - df['launched']).dt.days\n",
    "\n",
    "print(\"Campaign Duration Summary:\\n\", round(df['duration'].describe(), 2))\n"
   ]
  },
  {
   "cell_type": "code",
   "execution_count": null,
   "metadata": {},
   "outputs": [],
   "source": [
    "# Duration by State\n",
    "plt.figure(figsize=(10, 5))\n",
    "sns.boxplot(x='state', y='duration', data=df)\n",
    "plt.title('Campaign Duration by Project State')\n",
    "plt.show()"
   ]
  },
  {
   "cell_type": "code",
   "execution_count": null,
   "metadata": {},
   "outputs": [],
   "source": [
    "# Summary stats for numerical columns\n",
    "print(\"Summary statistics for goal, pledged, and backers:\")\n",
    "print(df[['goal', 'pledged', 'backers']].describe())"
   ]
  },
  {
   "cell_type": "code",
   "execution_count": null,
   "metadata": {},
   "outputs": [],
   "source": [
    "# Check for data quality issues\n",
    "print(\"Rows with goal <= 0:\", len(df[df['goal'] <= 0]))\n",
    "print(\"Rows with duration == 0:\", len(df[df['duration'] == 0]))"
   ]
  },
  {
   "cell_type": "code",
   "execution_count": null,
   "metadata": {},
   "outputs": [],
   "source": [
    "# Remove rows where goal is less than or equal to 0 OR duration is 0\n",
    "df = df[(df['goal'] > 0) & (df['duration'] != 0)]\n",
    "\n",
    "# Confirm the new shape\n",
    "print(\"New shape after removing invalid rows:\", df.shape)\n"
   ]
  },
  {
   "cell_type": "code",
   "execution_count": null,
   "metadata": {},
   "outputs": [],
   "source": [
    "# Save filtered dataset\n",
    "df.to_csv('../data/kickstarter_common.csv', index=False)"
   ]
  },
  {
   "cell_type": "code",
   "execution_count": null,
   "metadata": {},
   "outputs": [],
   "source": [
    "# Reload from CSV\n",
    "df = pd.read_csv('../data/kickstarter_common.csv')\n",
    "print(\"Reloaded shape:\", df.shape)\n",
    "print(\"Reloaded state distribution (%):\\n\", round(df['state'].value_counts(normalize=True) * 100, 2))"
   ]
  },
  {
   "cell_type": "code",
   "execution_count": null,
   "metadata": {},
   "outputs": [],
   "source": [
    "df.head(5)"
   ]
  }
 ],
 "metadata": {
  "kernelspec": {
   "display_name": ".venv",
   "language": "python",
   "name": "python3"
  },
  "language_info": {
   "codemirror_mode": {
    "name": "ipython",
    "version": 3
   },
   "file_extension": ".py",
   "mimetype": "text/x-python",
   "name": "python",
   "nbconvert_exporter": "python",
   "pygments_lexer": "ipython3",
   "version": "3.11.3"
  }
 },
 "nbformat": 4,
 "nbformat_minor": 2
}
