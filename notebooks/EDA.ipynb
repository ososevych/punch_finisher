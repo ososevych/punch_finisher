{
 "cells": [
  {
   "cell_type": "code",
   "execution_count": null,
   "metadata": {},
   "outputs": [],
   "source": [
    "#Imports\n",
    "\n",
    "import pandas as pd\n",
    "import numpy as np\n",
    "import matplotlib.pyplot as plt\n",
    "import seaborn as sns\n",
    "import warnings\n",
    "warnings.filterwarnings('ignore')"
   ]
  },
  {
   "cell_type": "markdown",
   "metadata": {},
   "source": [
    "#### Objective: Build a model to predict the State of a Kickstarter project, which can be one of two classes: \"Failed\" or \"Successful\"."
   ]
  },
  {
   "cell_type": "markdown",
   "metadata": {},
   "source": [
    "### Step 1: Data Collection  & Initial Cleaning"
   ]
  },
  {
   "cell_type": "code",
   "execution_count": null,
   "metadata": {},
   "outputs": [],
   "source": [
    "df = pd.read_csv('../data/kickstarter_projects.csv')"
   ]
  },
  {
   "cell_type": "code",
   "execution_count": null,
   "metadata": {},
   "outputs": [],
   "source": [
    "# Basic Overview\n",
    "print(df.shape)\n",
    "print(df.info())"
   ]
  },
  {
   "cell_type": "code",
   "execution_count": null,
   "metadata": {},
   "outputs": [],
   "source": [
    "# Standardize column names\n",
    "df.columns = df.columns.str.lower()\n",
    "print(\"Column names:\", df.columns.tolist())"
   ]
  },
  {
   "cell_type": "code",
   "execution_count": null,
   "metadata": {},
   "outputs": [],
   "source": [
    "# Check duplicates\n",
    "print(\"Number of duplicate rows:\", df.duplicated().sum())"
   ]
  },
  {
   "cell_type": "code",
   "execution_count": null,
   "metadata": {},
   "outputs": [],
   "source": [
    "# Show state distribution (before filtering)\n",
    "state_dist = df['state'].value_counts(normalize=True) * 100\n",
    "print(\"Initial state distribution (%):\\n\", round(state_dist, 2))"
   ]
  },
  {
   "cell_type": "code",
   "execution_count": null,
   "metadata": {},
   "outputs": [],
   "source": [
    "# Filter only for 'Successful' and 'Failed' projects\n",
    "df = df[df['state'].isin(['Successful', 'Failed'])]\n",
    "print(\"After filtering:\", df.shape)\n",
    "print(\"Filtered state distribution (%):\\n\", round(df['state'].value_counts(normalize=True) * 100, 2))"
   ]
  },
  {
   "cell_type": "markdown",
   "metadata": {},
   "source": [
    "### Step 2: Exploratory Data Analysis (EDA)"
   ]
  },
  {
   "cell_type": "code",
   "execution_count": null,
   "metadata": {},
   "outputs": [],
   "source": [
    "# 1. State distribution\n",
    "plt.figure(figsize=(8, 4))\n",
    "sns.countplot(x='state', data=df)\n",
    "plt.title('Distribution of Kickstarter Project States')\n",
    "plt.xlabel('Project State')\n",
    "plt.ylabel('Number of Projects')\n",
    "plt.show()\n",
    "\n",
    "# 2. Goal by State\n",
    "plt.figure(figsize=(10, 5))\n",
    "sns.boxplot(x='state', y='goal', data=df)\n",
    "plt.title('Goal Amount by Project State')\n",
    "plt.show()\n",
    "\n",
    "# 3. Category vs State\n",
    "plt.figure(figsize=(14, 6))\n",
    "sns.countplot(x='category', hue='state', data=df, order=df['category'].value_counts().index)\n",
    "plt.title('Project State by Category')\n",
    "plt.xticks(rotation=45, ha='right')\n",
    "plt.tight_layout()\n",
    "plt.show()"
   ]
  },
  {
   "cell_type": "code",
   "execution_count": null,
   "metadata": {},
   "outputs": [],
   "source": [
    "# Duration Feature Engineering\n",
    "df['launched'] = pd.to_datetime(df['launched'])\n",
    "df['deadline'] = pd.to_datetime(df['deadline'])\n",
    "df['duration'] = (df['deadline'] - df['launched']).dt.days\n",
    "\n",
    "print(\"Campaign Duration Summary:\\n\", round(df['duration'].describe(), 2))\n"
   ]
  },
  {
   "cell_type": "code",
   "execution_count": null,
   "metadata": {},
   "outputs": [],
   "source": [
    "# Duration by State\n",
    "plt.figure(figsize=(10, 5))\n",
    "sns.boxplot(x='state', y='duration', data=df)\n",
    "plt.title('Campaign Duration by Project State')\n",
    "plt.show()"
   ]
  },
  {
   "cell_type": "code",
   "execution_count": null,
   "metadata": {},
   "outputs": [],
   "source": [
    "# Summary stats for numerical columns\n",
    "print(\"Summary statistics for goal, pledged, and backers:\")\n",
    "print(df[['goal', 'pledged', 'backers']].describe())"
   ]
  },
  {
   "cell_type": "code",
   "execution_count": null,
   "metadata": {},
   "outputs": [],
   "source": [
    "# Check for data quality issues\n",
    "print(\"Rows with goal <= 0:\", len(df[df['goal'] <= 0]))\n",
    "print(\"Rows with duration == 0:\", len(df[df['duration'] == 0]))"
   ]
  },
  {
   "cell_type": "code",
   "execution_count": null,
   "metadata": {},
   "outputs": [],
   "source": [
    "# Remove rows where goal is less than or equal to 0 OR duration is 0\n",
    "df = df[(df['goal'] > 0) & (df['duration'] != 0)]\n",
    "\n",
    "# Confirm the new shape\n",
    "print(\"New shape after removing invalid rows:\", df.shape)\n"
   ]
  },
  {
   "cell_type": "code",
   "execution_count": null,
   "metadata": {},
   "outputs": [],
   "source": [
    "# Save filtered dataset\n",
    "df.to_csv('../data/kickstarter_common.csv', index=False)"
   ]
  },
  {
   "cell_type": "code",
   "execution_count": null,
   "metadata": {},
   "outputs": [],
   "source": [
    "# Reload from CSV\n",
    "df = pd.read_csv('../data/kickstarter_common.csv')\n",
    "print(\"Reloaded shape:\", df.shape)\n",
    "print(\"Reloaded state distribution (%):\\n\", round(df['state'].value_counts(normalize=True) * 100, 2))"
   ]
  },
  {
   "cell_type": "code",
   "execution_count": null,
   "metadata": {},
   "outputs": [],
   "source": [
    "df.head(5)"
   ]
  }
 ],
 "metadata": {
  "kernelspec": {
   "display_name": ".venv",
   "language": "python",
   "name": "python3"
  },
  "language_info": {
   "codemirror_mode": {
    "name": "ipython",
    "version": 3
   },
   "file_extension": ".py",
   "mimetype": "text/x-python",
   "name": "python",
   "nbconvert_exporter": "python",
   "pygments_lexer": "ipython3",
   "version": "3.11.3"
  }
 },
 "nbformat": 4,
 "nbformat_minor": 2
}
