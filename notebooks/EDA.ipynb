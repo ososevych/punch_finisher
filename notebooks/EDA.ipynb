{
 "cells": [
  {
   "cell_type": "code",
   "execution_count": 214,
   "metadata": {},
   "outputs": [],
   "source": [
    "#Imports\n",
    "\n",
    "import pandas as pd\n",
    "import numpy as np\n",
    "import matplotlib.pyplot as plt\n",
    "import seaborn as sns\n",
    "import warnings\n",
    "warnings.filterwarnings('ignore')"
   ]
  },
  {
   "cell_type": "markdown",
   "metadata": {},
   "source": [
    "#### Objective: Build a model to predict the State of a Kickstarter project, which can be one of two classes: \"Failed\" or \"Successful\"."
   ]
  },
  {
   "cell_type": "markdown",
   "metadata": {},
   "source": [
    "### Step 1: Data Collection  & Initial Cleaning"
   ]
  },
  {
   "cell_type": "code",
   "execution_count": 215,
   "metadata": {},
   "outputs": [],
   "source": [
    "df = pd.read_csv('../data/kickstarter_projects.csv')"
   ]
  },
  {
   "cell_type": "code",
   "execution_count": 216,
   "metadata": {},
   "outputs": [
    {
     "name": "stdout",
     "output_type": "stream",
     "text": [
      "(374853, 11)\n",
      "<class 'pandas.core.frame.DataFrame'>\n",
      "RangeIndex: 374853 entries, 0 to 374852\n",
      "Data columns (total 11 columns):\n",
      " #   Column       Non-Null Count   Dtype \n",
      "---  ------       --------------   ----- \n",
      " 0   ID           374853 non-null  int64 \n",
      " 1   Name         374853 non-null  object\n",
      " 2   Category     374853 non-null  object\n",
      " 3   Subcategory  374853 non-null  object\n",
      " 4   Country      374853 non-null  object\n",
      " 5   Launched     374853 non-null  object\n",
      " 6   Deadline     374853 non-null  object\n",
      " 7   Goal         374853 non-null  int64 \n",
      " 8   Pledged      374853 non-null  int64 \n",
      " 9   Backers      374853 non-null  int64 \n",
      " 10  State        374853 non-null  object\n",
      "dtypes: int64(4), object(7)\n",
      "memory usage: 31.5+ MB\n",
      "None\n"
     ]
    }
   ],
   "source": [
    "# Basic Overview\n",
    "print(df.shape)\n",
    "print(df.info())"
   ]
  },
  {
   "cell_type": "code",
   "execution_count": 217,
   "metadata": {},
   "outputs": [
    {
     "name": "stdout",
     "output_type": "stream",
     "text": [
      "Column names: ['id', 'name', 'category', 'subcategory', 'country', 'launched', 'deadline', 'goal', 'pledged', 'backers', 'state']\n"
     ]
    }
   ],
   "source": [
    "# Standardize column names\n",
    "df.columns = df.columns.str.lower()\n",
    "print(\"Column names:\", df.columns.tolist())"
   ]
  },
  {
   "cell_type": "code",
   "execution_count": 218,
   "metadata": {},
   "outputs": [
    {
     "name": "stdout",
     "output_type": "stream",
     "text": [
      "Number of duplicate rows: 0\n"
     ]
    }
   ],
   "source": [
    "# Check duplicates\n",
    "print(\"Number of duplicate rows:\", df.duplicated().sum())"
   ]
  },
  {
   "cell_type": "code",
   "execution_count": 219,
   "metadata": {},
   "outputs": [
    {
     "name": "stdout",
     "output_type": "stream",
     "text": [
      "Initial state distribution (%):\n",
      " state\n",
      "Failed        52.72\n",
      "Successful    35.71\n",
      "Canceled      10.34\n",
      "Live           0.75\n",
      "Suspended      0.49\n",
      "Name: proportion, dtype: float64\n"
     ]
    }
   ],
   "source": [
    "# Show state distribution (before filtering)\n",
    "state_dist = df['state'].value_counts(normalize=True) * 100\n",
    "print(\"Initial state distribution (%):\\n\", round(state_dist, 2))"
   ]
  },
  {
   "cell_type": "code",
   "execution_count": 220,
   "metadata": {},
   "outputs": [
    {
     "name": "stdout",
     "output_type": "stream",
     "text": [
      "After filtering: (331462, 11)\n",
      "Filtered state distribution (%):\n",
      " state\n",
      "Failed        59.62\n",
      "Successful    40.38\n",
      "Name: proportion, dtype: float64\n"
     ]
    }
   ],
   "source": [
    "# Filter only for 'Successful' and 'Failed' projects\n",
    "df = df[df['state'].isin(['Successful', 'Failed'])]\n",
    "print(\"After filtering:\", df.shape)\n",
    "print(\"Filtered state distribution (%):\\n\", round(df['state'].value_counts(normalize=True) * 100, 2))"
   ]
  },
  {
   "cell_type": "markdown",
   "metadata": {},
   "source": [
    "### Step 2: Exploratory Data Analysis (EDA)"
   ]
  },
  {
   "cell_type": "code",
   "execution_count": null,
   "metadata": {},
   "outputs": [],
   "source": [
    "# 1. State distribution\n",
    "plt.figure(figsize=(8, 4))\n",
    "sns.countplot(x='state', data=df)\n",
    "plt.title('Distribution of Kickstarter Project States')\n",
    "plt.xlabel('Project State')\n",
    "plt.ylabel('Number of Projects')\n",
    "plt.show()\n",
    "\n",
    "# 2. Goal by State\n",
    "plt.figure(figsize=(10, 5))\n",
    "sns.boxplot(x='state', y='goal', data=df)\n",
    "plt.title('Goal Amount by Project State')\n",
    "plt.show()\n",
    "\n",
    "# 3. Category vs State\n",
    "plt.figure(figsize=(14, 6))\n",
    "sns.countplot(x='category', hue='state', data=df, order=df['category'].value_counts().index)\n",
    "plt.title('Project State by Category')\n",
    "plt.xticks(rotation=45, ha='right')\n",
    "plt.tight_layout()\n",
    "plt.show()"
   ]
  },
  {
   "cell_type": "code",
   "execution_count": 221,
   "metadata": {},
   "outputs": [
    {
     "name": "stdout",
     "output_type": "stream",
     "text": [
      "Campaign Duration Summary:\n",
      " count    331462.00\n",
      "mean         32.96\n",
      "std          12.71\n",
      "min           0.00\n",
      "25%          29.00\n",
      "50%          29.00\n",
      "75%          35.00\n",
      "max          91.00\n",
      "Name: duration, dtype: float64\n"
     ]
    }
   ],
   "source": [
    "# Duration Feature Engineering\n",
    "df['launched'] = pd.to_datetime(df['launched'])\n",
    "df['deadline'] = pd.to_datetime(df['deadline'])\n",
    "df['duration'] = (df['deadline'] - df['launched']).dt.days\n",
    "\n",
    "print(\"Campaign Duration Summary:\\n\", round(df['duration'].describe(), 2))\n"
   ]
  },
  {
   "cell_type": "code",
   "execution_count": 222,
   "metadata": {},
   "outputs": [
    {
     "data": {
      "image/png": "[encoded data removed]",
      "text/plain": [
       "<Figure size 1000x500 with 1 Axes>"
      ]
     },
     "metadata": {},
     "output_type": "display_data"
    }
   ],
   "source": [
    "# Duration by State\n",
    "plt.figure(figsize=(10, 5))\n",
    "sns.boxplot(x='state', y='duration', data=df)\n",
    "plt.title('Campaign Duration by Project State')\n",
    "plt.show()"
   ]
  },
  {
   "cell_type": "code",
   "execution_count": 223,
   "metadata": {},
   "outputs": [
    {
     "name": "stdout",
     "output_type": "stream",
     "text": [
      "Summary statistics for goal, pledged, and backers:\n",
      "               goal       pledged        backers\n",
      "count  3.314620e+05  3.314620e+05  331462.000000\n",
      "mean   4.152286e+04  9.939993e+03     116.456315\n",
      "std    1.109279e+06  9.664561e+04     965.732911\n",
      "min    0.000000e+00  0.000000e+00       0.000000\n",
      "25%    2.000000e+03  5.000000e+01       2.000000\n",
      "50%    5.000000e+03  7.880000e+02      15.000000\n",
      "75%    1.500000e+04  4.609000e+03      63.000000\n",
      "max    1.663614e+08  2.033899e+07  219382.000000\n"
     ]
    }
   ],
   "source": [
    "# Summary stats for numerical columns\n",
    "print(\"Summary statistics for goal, pledged, and backers:\")\n",
    "print(df[['goal', 'pledged', 'backers']].describe())"
   ]
  },
  {
   "cell_type": "code",
   "execution_count": 224,
   "metadata": {},
   "outputs": [
    {
     "name": "stdout",
     "output_type": "stream",
     "text": [
      "Rows with goal <= 0: 3\n",
      "Rows with duration == 0: 92\n"
     ]
    }
   ],
   "source": [
    "# Check for data quality issues\n",
    "print(\"Rows with goal <= 0:\", len(df[df['goal'] <= 0]))\n",
    "print(\"Rows with duration == 0:\", len(df[df['duration'] == 0]))"
   ]
  },
  {
   "cell_type": "code",
   "execution_count": 225,
   "metadata": {},
   "outputs": [
    {
     "name": "stdout",
     "output_type": "stream",
     "text": [
      "New shape after removing invalid rows: (331368, 12)\n"
     ]
    }
   ],
   "source": [
    "# Remove rows where goal is less than or equal to 0 OR duration is 0\n",
    "df = df[(df['goal'] > 0) & (df['duration'] != 0)]\n",
    "\n",
    "# Confirm the new shape\n",
    "print(\"New shape after removing invalid rows:\", df.shape)\n"
   ]
  },
  {
   "cell_type": "code",
   "execution_count": 226,
   "metadata": {},
   "outputs": [],
   "source": [
    "# Save filtered dataset\n",
    "df.to_csv('../data/kickstarter_common.csv', index=False)"
   ]
  },
  {
   "cell_type": "code",
   "execution_count": 231,
   "metadata": {},
   "outputs": [
    {
     "name": "stdout",
     "output_type": "stream",
     "text": [
      "Reloaded shape: (331368, 12)\n",
      "Reloaded state distribution (%):\n",
      " state\n",
      "Failed        59.62\n",
      "Successful    40.38\n",
      "Name: proportion, dtype: float64\n"
     ]
    }
   ],
   "source": [
    "# Reload from CSV\n",
    "df = pd.read_csv('../data/kickstarter_common.csv')\n",
    "print(\"Reloaded shape:\", df.shape)\n",
    "print(\"Reloaded state distribution (%):\\n\", round(df['state'].value_counts(normalize=True) * 100, 2))"
   ]
  }
 ],
 "metadata": {
  "kernelspec": {
   "display_name": ".venv",
   "language": "python",
   "name": "python3"
  },
  "language_info": {
   "codemirror_mode": {
    "name": "ipython",
    "version": 3
   },
   "file_extension": ".py",
   "mimetype": "text/x-python",
   "name": "python",
   "nbconvert_exporter": "python",
   "pygments_lexer": "ipython3",
   "version": "3.11.3"
  }
 },
 "nbformat": 4,
 "nbformat_minor": 2
}
