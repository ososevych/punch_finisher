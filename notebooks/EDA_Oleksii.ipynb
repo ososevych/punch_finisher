{
 "cells": [
  {
   "cell_type": "markdown",
   "metadata": {},
   "source": [
    "# Load and Inspect the Data"
   ]
  },
  {
   "cell_type": "code",
   "execution_count": null,
   "metadata": {},
   "outputs": [],
   "source": [
    "#Imports\n",
    "import pandas as pd\n",
    "import numpy as np\n",
    "import warnings\n",
    "import seaborn as sns\n",
    "import matplotlib.pyplot as plt\n",
    "\n",
    "warnings.filterwarnings('ignore')\n",
    "\n",
    "df = pd.read_csv('../data/kickstarter_common.csv')\n",
    "\n",
    "df.columns = [col.lower() for col in df.columns]\n",
    "\n",
    "print(df.head())\n",
    "print(df.info())\n",
    "print(df.describe())"
   ]
  },
  {
   "cell_type": "markdown",
   "metadata": {},
   "source": [
    "## Key Questions to Explore\n",
    "### Project Success Rate:"
   ]
  },
  {
   "cell_type": "code",
   "execution_count": null,
   "metadata": {},
   "outputs": [],
   "source": [
    "state_counts = df['state'].value_counts()\n",
    "plt.pie(state_counts, labels=state_counts.index, autopct='%1.1f%%')\n",
    "plt.title('Project State Distribution')\n",
    "plt.show()"
   ]
  },
  {
   "cell_type": "markdown",
   "metadata": {},
   "source": [
    "### Funding Goals vs. Pledged Amounts:\n",
    "\n",
    "* Use logarithmic scales due to wide ranges; look for patterns in successful projects."
   ]
  },
  {
   "cell_type": "code",
   "execution_count": null,
   "metadata": {},
   "outputs": [],
   "source": [
    "sns.scatterplot(x='goal', y='pledged', hue='state', data=df)\n",
    "plt.xscale('log')\n",
    "plt.yscale('log')\n",
    "plt.title('Goal vs. Pledged by State')\n",
    "plt.show()"
   ]
  },
  {
   "cell_type": "markdown",
   "metadata": {},
   "source": [
    "### Category Insights:"
   ]
  },
  {
   "cell_type": "code",
   "execution_count": null,
   "metadata": {},
   "outputs": [],
   "source": [
    "success_by_category = df[df['state'] == 'Successful']['category'].value_counts()\n",
    "total_by_category = df['category'].value_counts()\n",
    "success_rate = (success_by_category / total_by_category).sort_values(ascending=False)\n",
    "success_rate.plot(kind='bar', title='Success Rate by Main Category')\n",
    "plt.show()\n",
    "\n",
    "print(success_rate)"
   ]
  },
  {
   "cell_type": "markdown",
   "metadata": {},
   "source": [
    "### Time Trends:"
   ]
  },
  {
   "cell_type": "code",
   "execution_count": null,
   "metadata": {},
   "outputs": [],
   "source": [
    "df['launched'] = pd.to_datetime(df['launched'])\n",
    "df['year'] = df['launched'].dt.year\n",
    "sns.countplot(x='year', hue='state', data=df)\n",
    "plt.title('Projects by Year and State')\n",
    "plt.show()"
   ]
  },
  {
   "cell_type": "code",
   "execution_count": null,
   "metadata": {},
   "outputs": [],
   "source": [
    "df.columns"
   ]
  },
  {
   "cell_type": "markdown",
   "metadata": {},
   "source": [
    "## Step 1: Data Preparation\n",
    "First, let’s clean and prepare the data to focus on success factors. Assuming you’re using the ks-projects-201801.csv dataset from Kaggle, here’s how to start:\n",
    "\n",
    "* Notes:\n",
    "** We drop pledged because it’s a result of success, not a predictor. We’ll use goal instead.\n",
    "** If there are missing values (e.g., in usd_goal_real), we might drop those rows or impute them later."
   ]
  },
  {
   "cell_type": "code",
   "execution_count": null,
   "metadata": {},
   "outputs": [],
   "source": [
    "# Filter to only 'Successful' and 'Failed' projects (exclude 'live', 'canceled', etc.)\n",
    "df = df[df['state'].isin(['Successful', 'Failed'])]"
   ]
  },
  {
   "cell_type": "code",
   "execution_count": null,
   "metadata": {},
   "outputs": [],
   "source": [
    "# Convert dates and calculate campaign duration\n",
    "df['launched'] = pd.to_datetime(df['launched'])\n",
    "df['deadline'] = pd.to_datetime(df['deadline'])\n",
    "df['duration_days'] = (df['deadline'] - df['launched']).dt.days"
   ]
  },
  {
   "cell_type": "code",
   "execution_count": null,
   "metadata": {},
   "outputs": [],
   "source": [
    "# Create a binary target: 1 for successful, 0 for failed\n",
    "df['success'] = (df['state'] == 'Successful').astype(int)"
   ]
  },
  {
   "cell_type": "code",
   "execution_count": null,
   "metadata": {},
   "outputs": [],
   "source": [
    "# Drop unnecessary columns (e.g., 'ID', 'name' for now)\n",
    "df = df.drop(columns=['id', 'name', 'state', 'pledged'])  # Pledged is outcome-related, not a predictor\n",
    "\n",
    "# Check for missing values\n",
    "print(df.isnull().sum())"
   ]
  },
  {
   "cell_type": "markdown",
   "metadata": {},
   "source": [
    "## Step 2: Feature Exploration\n",
    "Let’s examine key features that might influence success: goal, category, main_category, country, currency, duration_days, and launched (time-based factors). We’ll visualize and analyze each.\n",
    "\n",
    "a. Funding Goal (goal and usd_goal_real)\n",
    "Higher goals might be harder to achieve. Let’s compare distributions:"
   ]
  },
  {
   "cell_type": "code",
   "execution_count": null,
   "metadata": {},
   "outputs": [],
   "source": [
    "plt.figure(figsize=(10, 6))\n",
    "sns.boxplot(data=df, x='success', y='goal')  # Exclude outliers for clarity\n",
    "plt.yscale('log')\n",
    "plt.title('USD Goal Distribution by Success')\n",
    "plt.show()\n",
    "\n",
    "# Median goals by success\n",
    "print(df.groupby('success')['goal'].median())"
   ]
  },
  {
   "cell_type": "markdown",
   "metadata": {},
   "source": [
    "b. Category (main_category)\n",
    "Some categories might inherently perform better:"
   ]
  },
  {
   "cell_type": "code",
   "execution_count": null,
   "metadata": {},
   "outputs": [],
   "source": [
    "plt.figure(figsize=(12, 6))\n",
    "success_rate = df.groupby('category')['success'].mean().sort_values(ascending=False)\n",
    "sns.barplot(x=success_rate.index, y=success_rate.values)\n",
    "plt.xticks(rotation=45)\n",
    "plt.title('Success Rate by Main Category')\n",
    "plt.ylabel('Success Rate')\n",
    "plt.show()\n",
    "\n",
    "print(df.groupby('category')['success'].mean().sort_values(ascending=False))"
   ]
  },
  {
   "cell_type": "markdown",
   "metadata": {},
   "source": [
    "Expectation: Categories like Music or Art might have higher success rates due to lower goals or broader appeal."
   ]
  },
  {
   "cell_type": "markdown",
   "metadata": {},
   "source": [
    "c. Campaign Duration (duration_days)\n",
    "Longer campaigns might signal uncertainty, or shorter ones might create urgency:"
   ]
  },
  {
   "cell_type": "code",
   "execution_count": null,
   "metadata": {},
   "outputs": [],
   "source": [
    "plt.figure(figsize=(10, 6))\n",
    "sns.histplot(data=df, x='duration_days', hue='success', bins=30, alpha=0.5)\n",
    "plt.title('Campaign Duration by Success')\n",
    "plt.show()\n",
    "\n",
    "# Median duration by success\n",
    "print(df.groupby('success')['duration_days'].median())"
   ]
  },
  {
   "cell_type": "markdown",
   "metadata": {},
   "source": [
    "Expectation: Successful projects might favor shorter durations (e.g., 30 days).\n",
    "\n",
    "d. Country (country)\n",
    "Geographic differences could reflect market size or crowdfunding culture:"
   ]
  },
  {
   "cell_type": "code",
   "execution_count": null,
   "metadata": {},
   "outputs": [],
   "source": [
    "plt.figure(figsize=(12, 6))\n",
    "success_rate_country = df.groupby('country')['success'].mean().sort_values(ascending=False)\n",
    "sns.barplot(y=success_rate_country.index, x=success_rate_country.values, orient='h')\n",
    "plt.title('Success Rate by Country')\n",
    "plt.show()\n",
    "\n",
    "print(success_rate_country)"
   ]
  },
  {
   "cell_type": "markdown",
   "metadata": {},
   "source": [
    "e. Launch Timing (launched)\n",
    "Seasonality or year might matter:"
   ]
  },
  {
   "cell_type": "code",
   "execution_count": null,
   "metadata": {},
   "outputs": [],
   "source": [
    "df['launch_month'] = df['launched'].dt.month\n",
    "df['launch_year'] = df['launched'].dt.year\n",
    "\n",
    "plt.figure(figsize=(10, 6))\n",
    "sns.barplot(x='launch_month', y='success', data=df)\n",
    "plt.title('Success Rate by Launch Month')\n",
    "\n",
    "# Set the Y-axis to start at 0.3 (adjust the upper limit as needed)\n",
    "plt.ylim(0.3, 0.45)  # Upper limit is 10% above the max success rate\n",
    "plt.show()\n",
    "\n",
    "print(df.groupby('launch_month')['success'].mean())"
   ]
  },
  {
   "cell_type": "markdown",
   "metadata": {},
   "source": [
    "## Step 3: Correlation and Feature Importance\n",
    "To quantify importance, let’s use a simple machine learning model (e.g., Random Forest) to rank features. First, encode categorical variables:"
   ]
  },
  {
   "cell_type": "code",
   "execution_count": null,
   "metadata": {},
   "outputs": [],
   "source": [
    "from sklearn.ensemble import RandomForestClassifier\n",
    "from sklearn.preprocessing import LabelEncoder\n",
    "from sklearn.model_selection import train_test_split\n",
    "from sklearn.metrics import precision_score, recall_score, f1_score, accuracy_score, classification_report\n",
    "\n",
    "# Select features\n",
    "features = ['goal', 'category', 'country', 'duration_days', 'launch_month', 'launch_year']\n",
    "X = df[features].copy()\n",
    "y = df['success']\n",
    "\n",
    "# Encode categorical variables\n",
    "le = LabelEncoder()\n",
    "X['category'] = le.fit_transform(X['category'])\n",
    "X['country'] = le.fit_transform(X['country'])\n",
    "\n",
    "# # Handle any NaN values (simple imputation)\n",
    "X = X.fillna(X.median())\n",
    "\n",
    "# Train/test split (80% train, 20% test)\n",
    "X_train, X_test, y_train, y_test = train_test_split(X, y, test_size=0.2, random_state=43)\n",
    "\n",
    "# Train Random Forest\n",
    "rf = RandomForestClassifier(n_estimators=100, random_state=42)\n",
    "rf.fit(X_train, y_train)\n",
    "\n",
    "# Predict on test set\n",
    "y_pred = rf.predict(X_test)\n",
    "\n",
    "# Feature importance\n",
    "importances = pd.Series(rf.feature_importances_, index=features).sort_values(ascending=False)\n",
    "plt.figure(figsize=(10, 6))\n",
    "sns.barplot(x=importances.values, y=importances.index)\n",
    "plt.title('Feature Importance for Project Success')\n",
    "plt.show()\n",
    "print(importances)\n",
    "\n",
    "\n",
    "# Calculate metrics\n",
    "precision = precision_score(y_test, y_pred)\n",
    "recall = recall_score(y_test, y_pred)\n",
    "f1 = f1_score(y_test, y_pred)\n",
    "accuracy = accuracy_score(y_test, y_pred)\n",
    "\n",
    "# Print results\n",
    "print(f\"Precision: {precision:.3f}\")\n",
    "print(f\"Recall: {recall:.3f}\")\n",
    "print(f\"F1-Score: {f1:.3f}\")\n",
    "print(f\"Accuracy: {accuracy:.3f}\")\n",
    "\n",
    "# Detailed classification report\n",
    "print(\"\\nClassification Report:\")\n",
    "print(classification_report(y_test, y_pred, target_names=['Failed', 'Successful']))"
   ]
  },
  {
   "cell_type": "markdown",
   "metadata": {},
   "source": [
    "## Step 4: Categories and subcategories\n"
   ]
  },
  {
   "cell_type": "code",
   "execution_count": null,
   "metadata": {},
   "outputs": [],
   "source": [
    "# Create a pivot table counting occurrences of subcategories within categories\n",
    "pivot_table = pd.pivot_table(df,\n",
    "                            columns=['category','subcategory'], \n",
    "                            aggfunc='size', \n",
    "                            fill_value=0)\n",
    "\n",
    "# Display the pivot table\n",
    "print(\"Pivot Table of Categories and Subcategories:\")\n",
    "print(pivot_table)\n",
    "\n",
    "# Plot the counts of categories\n",
    "category_counts = df['category'].value_counts()\n",
    "plt.figure(figsize=(10, 6))\n",
    "category_counts.plot(kind='bar', color='skyblue')\n",
    "plt.title('Count of Items per Category')\n",
    "plt.xlabel('Category')\n",
    "plt.ylabel('Count')\n",
    "plt.xticks(rotation=45, ha='right')\n",
    "plt.tight_layout()\n",
    "plt.show()"
   ]
  },
  {
   "cell_type": "code",
   "execution_count": null,
   "metadata": {},
   "outputs": [],
   "source": [
    "# Group subcategories by category\n",
    "grouped = df.groupby('category')['subcategory'].unique().reset_index()\n",
    "\n",
    "# Format as JavaScript-like string\n",
    "js_output = \"const categories = [\\n\"\n",
    "for index, row in grouped.iterrows():\n",
    "    category = row['category']\n",
    "    subcategories = row['subcategory'].tolist()\n",
    "    # Convert to string with proper quotes and formatting\n",
    "    subcat_str = ', '.join(f\"'{sub}'\" for sub in subcategories)\n",
    "    js_output += f\"  {{ name: '{category}', subcategories: [{subcat_str}] }},\\n\"\n",
    "js_output += \"];\"\n",
    "\n",
    "# Print the result\n",
    "print(js_output)"
   ]
  },
  {
   "cell_type": "code",
   "execution_count": null,
   "metadata": {},
   "outputs": [],
   "source": [
    "# Extract unique countries from the 'Country' column (adjust column name if needed)\n",
    "countries = df['country'].dropna().unique().tolist()\n",
    "\n",
    "# Sort the list alphabetically for readability\n",
    "countries.sort()\n",
    "\n",
    "# Print as a simple list\n",
    "print(\"List of countries:\")\n",
    "print(countries)\n",
    "\n",
    "# Optionally, format as a JavaScript array for front-end use\n",
    "js_countries = \"const countries = \" + str(countries).replace(\"'\", \"\\\"\") + \";\"\n",
    "print(\"\\nJavaScript array format:\")\n",
    "print(js_countries)"
   ]
  },
  {
   "cell_type": "markdown",
   "metadata": {},
   "source": [
    "##  Digging Deeper\n",
    "\n",
    "* Duration: Bucket into ranges (<20, 20-40, >40 days) to check if extremes matter:"
   ]
  },
  {
   "cell_type": "code",
   "execution_count": null,
   "metadata": {},
   "outputs": [],
   "source": [
    "# Create duration buckets\n",
    "df['duration_bucket'] = pd.cut(df['duration_days'], \n",
    "                              bins=[1, 10, 20, 30, 40, 50, 100], \n",
    "                              labels=['1-10', '11-20', '21-30', '31-40', '41-50', '51-100'])\n",
    "\n",
    "# Plot the barplot\n",
    "sns.barplot(x='duration_bucket', y='success', data=df)\n",
    "plt.show()\n",
    "\n",
    "# Calculate mean success rate per bucket\n",
    "bucket_success = df.groupby('duration_bucket')['success'].mean().reset_index()\n",
    "\n",
    "# Format as JavaScript array of objects\n",
    "js_output = \"const durationData = [\\n\"\n",
    "for index, row in bucket_success.iterrows():\n",
    "    bucket = row['duration_bucket']\n",
    "    success_rate = round(row['success'], 4)  # Round to 4 decimal places for clarity\n",
    "    js_output += f\"  {{ bucket: '{bucket}', successRate: {success_rate} }},\\n\"\n",
    "js_output += \"];\"\n",
    "\n",
    "# Print the result for front-end use\n",
    "print(js_output)"
   ]
  },
  {
   "cell_type": "markdown",
   "metadata": {},
   "source": [
    "* Goal + Category: Test if low goals in low-success categories (e.g., Tech) still fail, or if goal trumps all:"
   ]
  },
  {
   "cell_type": "code",
   "execution_count": null,
   "metadata": {},
   "outputs": [],
   "source": [
    "sns.boxplot(x='category', y='goal', hue='success', data=df, showfliers=False)\n",
    "plt.xticks(rotation=90)\n",
    "plt.show()"
   ]
  },
  {
   "cell_type": "code",
   "execution_count": null,
   "metadata": {},
   "outputs": [],
   "source": [
    "import pandas as pd\n",
    "import seaborn as sns\n",
    "import matplotlib.pyplot as plt\n",
    "\n",
    "# Extract year from 'launched' column\n",
    "df['launch_year'] = df['launched'].dt.year\n",
    "\n",
    "# Calculate counts (non-cumulative)\n",
    "# Total projects per year\n",
    "total_projects = df.groupby('launch_year').size().reset_index(name='total_count')\n",
    "\n",
    "# Successful projects per year (assuming 'success' is 1 for success, 0 for failure)\n",
    "successful_projects = df[df['success'] == 1].groupby('launch_year').size().reset_index(name='success_count')\n",
    "\n",
    "# Merge the dataframes for plotting\n",
    "merged_data = pd.merge(total_projects[['launch_year', 'total_count']], \n",
    "                       successful_projects[['launch_year', 'success_count']], \n",
    "                       on='launch_year', how='outer').fillna(0)\n",
    "\n",
    "# Create the line plot\n",
    "plt.figure(figsize=(10, 6))\n",
    "sns.lineplot(x='launch_year', y='total_count', data=merged_data, label='Total Projects', marker='o')\n",
    "sns.lineplot(x='launch_year', y='success_count', data=merged_data, label='Successful Projects', marker='s')\n",
    "plt.title('Project Trends by Year (Yearly Counts)')\n",
    "plt.xlabel('Year')\n",
    "plt.ylabel('Count')\n",
    "plt.legend()\n",
    "plt.grid(True)\n",
    "plt.xticks(merged_data['launch_year'].astype(int))  # Ensure years are integers\n",
    "plt.tight_layout()\n",
    "plt.show()\n",
    "\n",
    "# Print the data for reference\n",
    "print(\"Counts by year:\")\n",
    "print(merged_data)"
   ]
  },
  {
   "cell_type": "code",
   "execution_count": null,
   "metadata": {},
   "outputs": [],
   "source": [
    "import pandas as pd\n",
    "import matplotlib.pyplot as plt\n",
    "\n",
    "# Assuming 'goal' is the column with funding goals\n",
    "# Define bins for funding goals (adjust as needed)\n",
    "goal_bins = [0, 1000, 5000, 10000, 50000, 100000, float('inf')]\n",
    "goal_labels = ['0-1K', '1K-5K', '5K-10K', '10K-50K', '50K-100K', '100K+']\n",
    "\n",
    "# Create a new column with funding goal buckets\n",
    "df['goal_bucket'] = pd.cut(df['goal'], bins=goal_bins, labels=goal_labels, right=False)\n",
    "\n",
    "# Calculate the count of projects in each bucket\n",
    "goal_distribution = df['goal_bucket'].value_counts().sort_index()\n",
    "\n",
    "# Plot the pie chart\n",
    "plt.figure(figsize=(8, 8))\n",
    "plt.pie(goal_distribution, labels=goal_distribution.index, autopct='%1.1f%%', startangle=90, colors=plt.cm.Paired.colors)\n",
    "plt.title('Funding Goal Distribution')\n",
    "plt.axis('equal')  # Equal aspect ratio ensures the pie is a circle\n",
    "plt.show()\n",
    "\n",
    "# Print the distribution for reference\n",
    "print(\"Funding Goal Distribution:\")\n",
    "print(goal_distribution)"
   ]
  }
 ],
 "metadata": {
  "kernelspec": {
   "display_name": ".venv",
   "language": "python",
   "name": "python3"
  },
  "language_info": {
   "codemirror_mode": {
    "name": "ipython",
    "version": 3
   },
   "file_extension": ".py",
   "mimetype": "text/x-python",
   "name": "python",
   "nbconvert_exporter": "python",
   "pygments_lexer": "ipython3",
   "version": "3.11.3"
  }
 },
 "nbformat": 4,
 "nbformat_minor": 2
}
