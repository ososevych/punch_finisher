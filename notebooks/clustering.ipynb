{
 "cells": [
  {
   "cell_type": "code",
   "execution_count": null,
   "metadata": {},
   "outputs": [],
   "source": [
    "#Imports\n",
    "import pandas as pd\n",
    "import numpy as np\n",
    "import warnings\n",
    "import seaborn as sns\n",
    "import matplotlib.pyplot as plt\n",
    "\n",
    "warnings.filterwarnings('ignore')\n",
    "\n",
    "df = pd.read_csv('../data/kickstarter_common.csv')\n",
    "\n",
    "print(df.info())\n",
    "print(df.describe())\n",
    "\n",
    "print(df['country'].value_counts())"
   ]
  },
  {
   "cell_type": "markdown",
   "metadata": {},
   "source": [
    "## Step 1: Success Rate Encoding for category and country\n",
    "We’ll calculate the success rate (proportion of \"successful\" projects) for each unique value in `category` and `country`, then map these rates back to the DataFrame as new columns. This will give us numerical representations of how successful each category and country tends to be, which we’ll use in clustering."
   ]
  },
  {
   "cell_type": "code",
   "execution_count": null,
   "metadata": {},
   "outputs": [],
   "source": [
    "# Calculate success rate for 'category'\n",
    "category_success_rate = df.groupby('category')['state'].apply(lambda x: (x == 'Successful').mean())\n",
    "df['category_success_rate'] = df['category'].map(category_success_rate)\n",
    "\n",
    "# Calculate success rate for 'country'\n",
    "country_success_rate = df.groupby('country')['state'].apply(lambda x: (x == 'Successful').mean())\n",
    "df['country_success_rate'] = df['country'].map(country_success_rate)\n",
    "\n",
    "# Verify the new columns\n",
    "print(df[['category', 'category_success_rate', 'country', 'country_success_rate']].head())"
   ]
  },
  {
   "cell_type": "markdown",
   "metadata": {},
   "source": [
    "## Step 2: Prepare Features for Clustering\n",
    "For clustering, we need a set of numerical features that define project similarity. We’ll use `goal`, `duration`, `launch_month`, `launch_year`, `category_success_rate`, and `country_success_rate`. Since goal might be skewed, we’ll apply a log transformation to it. We’ll also standardize all features to ensure they’re on the same scale, which is crucial for K-Means clustering."
   ]
  },
  {
   "cell_type": "code",
   "execution_count": null,
   "metadata": {},
   "outputs": [],
   "source": [
    "from sklearn.preprocessing import StandardScaler\n",
    "\n",
    "# Select features for clustering\n",
    "features = ['goal', 'duration', 'launch_month', 'launch_year', 'category_success_rate', 'country_success_rate']\n",
    "\n",
    "# Apply log transformation to 'goal' (add 1 to avoid log(0))\n",
    "df['log_goal'] = np.log1p(df['goal'])\n",
    "\n",
    "# Update features list with log_goal instead of goal\n",
    "features = ['log_goal', 'duration', 'launch_month', 'launch_year', 'category_success_rate', 'country_success_rate']\n",
    "\n",
    "# Extract the feature matrix\n",
    "X = df[features]\n",
    "\n",
    "# Standardize the features\n",
    "scaler = StandardScaler()\n",
    "X_scaled = scaler.fit_transform(X)\n",
    "\n",
    "# Check the scaled data\n",
    "print(\"Scaled features shape:\", X_scaled.shape)\n",
    "print(\"Sample of scaled features:\\n\", X_scaled[:5])"
   ]
  },
  {
   "cell_type": "markdown",
   "metadata": {},
   "source": [
    "## Step 3: Perform K-Means Clustering\n",
    "We’ll use K-Means to cluster the projects. To choose the number of clusters (`k`), we’ll try a range of values and use the elbow method to find a reasonable `k`. Then, we’ll fit the model with the chosen `k` and assign cluster labels to each project."
   ]
  },
  {
   "cell_type": "code",
   "execution_count": null,
   "metadata": {},
   "outputs": [],
   "source": [
    "from sklearn.cluster import KMeans\n",
    "import matplotlib.pyplot as plt\n",
    "\n",
    "# Elbow method to determine optimal k\n",
    "inertia = []\n",
    "k_range = range(2, 11)  # Testing k from 2 to 10\n",
    "for k in k_range:\n",
    "    kmeans = KMeans(n_clusters=k, random_state=42)\n",
    "    kmeans.fit(X_scaled)\n",
    "    inertia.append(kmeans.inertia_)\n",
    "\n",
    "# Plot the elbow curve\n",
    "plt.figure(figsize=(8, 5))\n",
    "plt.plot(k_range, inertia, marker='o')\n",
    "plt.xlabel('Number of Clusters (k)')\n",
    "plt.ylabel('Inertia')\n",
    "plt.title('Elbow Method for Optimal k')\n",
    "plt.show()\n",
    "\n",
    "# Choose k (e.g., 5) based on the elbow plot and fit the model\n",
    "k = 5  # Adjust this based on your elbow plot\n",
    "kmeans = KMeans(n_clusters=k, random_state=42)\n",
    "df['cluster'] = kmeans.fit_predict(X_scaled)\n",
    "\n",
    "# Verify cluster assignment\n",
    "print(df[['id', 'category', 'country', 'state', 'cluster']].head())"
   ]
  },
  {
   "cell_type": "markdown",
   "metadata": {},
   "source": [
    "## Step 4: Explore Clustering Outcomes\n",
    "Now that we have cluster labels, let’s explore what they mean. We’ll look at the size of each cluster, the success rate within each cluster, and some summary statistics to understand the groupings."
   ]
  },
  {
   "cell_type": "code",
   "execution_count": null,
   "metadata": {},
   "outputs": [],
   "source": [
    "# Cluster sizes\n",
    "print(\"Cluster sizes:\")\n",
    "print(df['cluster'].value_counts())\n",
    "\n",
    "# Success rate per cluster\n",
    "cluster_success_rate = df.groupby('cluster')['state'].apply(lambda x: (x == 'Successful').mean())\n",
    "print(\"\\nSuccess rate per cluster:\")\n",
    "print(cluster_success_rate)\n",
    "\n",
    "# Summary statistics for each cluster\n",
    "print(\"\\nSummary statistics by cluster:\")\n",
    "cluster_summary = df.groupby('cluster')[features].mean()\n",
    "print(cluster_summary)\n",
    "\n",
    "# Optional: Visualize success rate by cluster\n",
    "cluster_success_rate.plot(kind='bar', figsize=(8, 5))\n",
    "plt.xlabel('Cluster')\n",
    "plt.ylabel('Success Rate')\n",
    "plt.title('Success Rate by Cluster')\n",
    "plt.show()"
   ]
  },
  {
   "cell_type": "markdown",
   "metadata": {},
   "source": [
    "# Step 5: Find Closest Projects for a Sample Input\n",
    "For your goal of providing the 5 closest failed and 5 closest successful projects, let’s simulate a new project input and find its nearest neighbors in the clustered data. We’ll use Euclidean distance on the scaled features."
   ]
  },
  {
   "cell_type": "code",
   "execution_count": null,
   "metadata": {},
   "outputs": [],
   "source": [
    "from sklearn.metrics import pairwise_distances\n",
    "\n",
    "# Simulate a new project input (example values)\n",
    "new_project = {\n",
    "    'goal': 10000,  # $10,000 goal\n",
    "    'duration': 30,  # 30 days\n",
    "    'launch_month': 4,  # April\n",
    "    'launch_year': 2018,\n",
    "    'category': 'Technology',  # Map to its success rate\n",
    "    'country': 'United States'  # Map to its success rate\n",
    "}\n",
    "\n",
    "# Prepare the new project data\n",
    "new_project['log_goal'] = np.log1p(new_project['goal'])\n",
    "new_project['category_success_rate'] = category_success_rate[new_project['category']]\n",
    "new_project['country_success_rate'] = country_success_rate[new_project['country']]\n",
    "new_project_data = [new_project['log_goal'], new_project['duration'], new_project['launch_month'],\n",
    "                    new_project['launch_year'], new_project['category_success_rate'], new_project['country_success_rate']]\n",
    "\n",
    "# Scale the new project data\n",
    "new_project_scaled = scaler.transform([new_project_data])\n",
    "\n",
    "# Calculate distances to all projects\n",
    "distances = pairwise_distances(new_project_scaled, X_scaled, metric='euclidean').flatten()\n",
    "\n",
    "# Add distances to the DataFrame\n",
    "df['distance_to_new'] = distances\n",
    "\n",
    "# Get 5 closest successful and failed projects\n",
    "closest_successful = df[df['state'] == 'Successful'].nsmallest(5, 'distance_to_new')\n",
    "closest_failed = df[df['state'] == 'Failed'].nsmallest(5, 'distance_to_new')\n",
    "\n",
    "# Get the most distant successful and failed projects\n",
    "most_distant_successful = df[df['state'] == 'Successful'].nlargest(1, 'distance_to_new')\n",
    "most_distant_failed = df[df['state'] == 'Failed'].nlargest(1, 'distance_to_new')\n",
    "\n",
    "# Display results\n",
    "print(\"\\n5 Closest Successful Projects:\")\n",
    "print(closest_successful[['name', 'category', 'country', 'goal', 'pledged', 'state', 'distance_to_new']])\n",
    "print(\"\\n5 Closest Failed Projects:\")\n",
    "print(closest_failed[['name', 'category', 'country', 'goal', 'pledged', 'state', 'distance_to_new']])\n",
    "print(\"\\nMost Distant Successful Project:\")\n",
    "print(most_distant_successful[['name', 'category', 'country', 'goal', 'pledged', 'state', 'distance_to_new']])\n",
    "print(\"\\nMost Distant Failed Project:\")\n",
    "print(most_distant_failed[['name', 'category', 'country', 'goal', 'pledged', 'state', 'distance_to_new']])"
   ]
  },
  {
   "cell_type": "markdown",
   "metadata": {},
   "source": [
    "## Step 6: Generate Links to the Closest Successful and Failed Projects\n",
    "After identifying the 5 closest successful and 5 closest failed projects in Step 5 based on clustering and distance, we’ll generate hypothetical Kickstarter links for these projects using their id and a slugified version of their name. This will allow users to explore these similar projects directly."
   ]
  },
  {
   "cell_type": "code",
   "execution_count": null,
   "metadata": {},
   "outputs": [],
   "source": [
    "import urllib.parse\n",
    "\n",
    "# Function to create a Kickstarter search URL from project name\n",
    "def create_search_url(project_name):\n",
    "    # URL-encode the project name to handle spaces and special characters\n",
    "    encoded_name = urllib.parse.quote(project_name)\n",
    "    return f\"https://www.kickstarter.com/discover/advanced?ref=nav_search&term={encoded_name}\"\n",
    "\n",
    "# Generate search URLs for the closest successful and failed projects\n",
    "closest_successful[\"search_link\"] = closest_successful[\"name\"].apply(create_search_url)\n",
    "closest_failed[\"search_link\"] = closest_failed[\"name\"].apply(create_search_url)\n",
    "\n",
    "# Display results with search links\n",
    "print(\"\\n5 Closest Successful Projects with Search Links:\")\n",
    "print(closest_successful[['name', 'category', 'country', 'goal', 'pledged', 'state', 'distance_to_new', 'search_link']])\n",
    "print(\"\\n5 Closest Failed Projects with Search Links:\")\n",
    "print(closest_failed[['name', 'category', 'country', 'goal', 'pledged', 'state', 'distance_to_new', 'search_link']])\n",
    "\n",
    "# Optional: Display clickable links in Jupyter Notebook\n",
    "from IPython.display import display, HTML\n",
    "successful_html = closest_successful[['name', 'search_link']].copy()\n",
    "successful_html['search_link'] = successful_html['search_link'].apply(lambda x: f'<a href=\"{x}\" target=\"_blank\">{x}</a>')\n",
    "failed_html = closest_failed[['name', 'search_link']].copy()\n",
    "failed_html['search_link'] = failed_html['search_link'].apply(lambda x: f'<a href=\"{x}\" target=\"_blank\">{x}</a>')\n",
    "\n",
    "print(\"\\nClickable Links for Closest Successful Projects:\")\n",
    "display(HTML(successful_html.to_html(escape=False)))\n",
    "print(\"\\nClickable Links for Closest Failed Projects:\")\n",
    "display(HTML(failed_html.to_html(escape=False)))"
   ]
  }
 ],
 "metadata": {
  "kernelspec": {
   "display_name": ".venv",
   "language": "python",
   "name": "python3"
  },
  "language_info": {
   "codemirror_mode": {
    "name": "ipython",
    "version": 3
   },
   "file_extension": ".py",
   "mimetype": "text/x-python",
   "name": "python",
   "nbconvert_exporter": "python",
   "pygments_lexer": "ipython3",
   "version": "3.11.3"
  }
 },
 "nbformat": 4,
 "nbformat_minor": 2
}
