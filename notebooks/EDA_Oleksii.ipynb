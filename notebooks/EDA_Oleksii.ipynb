{
 "cells": [
  {
   "cell_type": "markdown",
   "metadata": {},
   "source": [
    "# Load and Inspect the Data"
   ]
  },
  {
   "cell_type": "code",
   "execution_count": null,
   "metadata": {},
   "outputs": [],
   "source": [
    "#Imports\n",
    "import pandas as pd\n",
    "import numpy as np\n",
    "import warnings\n",
    "import seaborn as sns\n",
    "import matplotlib.pyplot as plt\n",
    "\n",
    "warnings.filterwarnings('ignore')\n",
    "\n",
    "df = pd.read_csv('../data/kickstarter_projects.csv')\n",
    "\n",
    "df.columns = [col.lower() for col in df.columns]\n",
    "\n",
    "print(df.head())\n",
    "print(df.info())\n",
    "print(df.describe())"
   ]
  },
  {
   "cell_type": "markdown",
   "metadata": {},
   "source": [
    "## Key Questions to Explore\n",
    "### Project Success Rate:"
   ]
  },
  {
   "cell_type": "code",
   "execution_count": null,
   "metadata": {},
   "outputs": [],
   "source": [
    "state_counts = df['state'].value_counts()\n",
    "plt.pie(state_counts, labels=state_counts.index, autopct='%1.1f%%')\n",
    "plt.title('Project State Distribution')\n",
    "plt.show()"
   ]
  },
  {
   "cell_type": "markdown",
   "metadata": {},
   "source": [
    "### Funding Goals vs. Pledged Amounts:\n",
    "\n",
    "* Use logarithmic scales due to wide ranges; look for patterns in successful projects."
   ]
  },
  {
   "cell_type": "code",
   "execution_count": null,
   "metadata": {},
   "outputs": [],
   "source": [
    "sns.scatterplot(x='goal', y='pledged', hue='state', data=df)\n",
    "plt.xscale('log')\n",
    "plt.yscale('log')\n",
    "plt.title('Goal vs. Pledged by State')\n",
    "plt.show()"
   ]
  },
  {
   "cell_type": "markdown",
   "metadata": {},
   "source": [
    "### Category Insights:"
   ]
  },
  {
   "cell_type": "code",
   "execution_count": null,
   "metadata": {},
   "outputs": [],
   "source": [
    "success_by_category = df[df['state'] == 'Successful']['category'].value_counts()\n",
    "total_by_category = df['category'].value_counts()\n",
    "success_rate = (success_by_category / total_by_category).sort_values(ascending=False)\n",
    "success_rate.plot(kind='bar', title='Success Rate by Main Category')\n",
    "plt.show()"
   ]
  },
  {
   "cell_type": "markdown",
   "metadata": {},
   "source": [
    "### Time Trends:"
   ]
  },
  {
   "cell_type": "code",
   "execution_count": null,
   "metadata": {},
   "outputs": [],
   "source": [
    "df['launched'] = pd.to_datetime(df['launched'])\n",
    "df['year'] = df['launched'].dt.year\n",
    "sns.countplot(x='year', hue='state', data=df)\n",
    "plt.title('Projects by Year and State')\n",
    "plt.show()"
   ]
  },
  {
   "cell_type": "code",
   "execution_count": null,
   "metadata": {},
   "outputs": [],
   "source": [
    "df.columns"
   ]
  },
  {
   "cell_type": "markdown",
   "metadata": {},
   "source": [
    "## Step 1: Data Preparation\n",
    "First, let’s clean and prepare the data to focus on success factors. Assuming you’re using the ks-projects-201801.csv dataset from Kaggle, here’s how to start:\n",
    "\n",
    "* Notes:\n",
    "** We drop pledged because it’s a result of success, not a predictor. We’ll use goal instead.\n",
    "** If there are missing values (e.g., in usd_goal_real), we might drop those rows or impute them later."
   ]
  },
  {
   "cell_type": "code",
   "execution_count": null,
   "metadata": {},
   "outputs": [],
   "source": [
    "# Filter to only 'Successful' and 'Failed' projects (exclude 'live', 'canceled', etc.)\n",
    "df = df[df['state'].isin(['Successful', 'Failed'])]"
   ]
  },
  {
   "cell_type": "code",
   "execution_count": null,
   "metadata": {},
   "outputs": [],
   "source": [
    "# Convert dates and calculate campaign duration\n",
    "df['launched'] = pd.to_datetime(df['launched'])\n",
    "df['deadline'] = pd.to_datetime(df['deadline'])\n",
    "df['duration_days'] = (df['deadline'] - df['launched']).dt.days"
   ]
  },
  {
   "cell_type": "code",
   "execution_count": null,
   "metadata": {},
   "outputs": [],
   "source": [
    "# Create a binary target: 1 for successful, 0 for failed\n",
    "df['success'] = (df['state'] == 'Successful').astype(int)"
   ]
  },
  {
   "cell_type": "code",
   "execution_count": null,
   "metadata": {},
   "outputs": [],
   "source": [
    "# Drop unnecessary columns (e.g., 'ID', 'name' for now)\n",
    "df = df.drop(columns=['id', 'name', 'state', 'pledged'])  # Pledged is outcome-related, not a predictor\n",
    "\n",
    "# Check for missing values\n",
    "print(df.isnull().sum())"
   ]
  },
  {
   "cell_type": "markdown",
   "metadata": {},
   "source": [
    "## Step 2: Feature Exploration\n",
    "Let’s examine key features that might influence success: goal, category, main_category, country, currency, duration_days, and launched (time-based factors). We’ll visualize and analyze each.\n",
    "\n",
    "a. Funding Goal (goal and usd_goal_real)\n",
    "Higher goals might be harder to achieve. Let’s compare distributions:"
   ]
  },
  {
   "cell_type": "code",
   "execution_count": null,
   "metadata": {},
   "outputs": [],
   "source": [
    "df.info()\n",
    "df['state'].head(5)"
   ]
  },
  {
   "cell_type": "code",
   "execution_count": null,
   "metadata": {},
   "outputs": [],
   "source": [
    "plt.figure(figsize=(10, 6))\n",
    "sns.boxplot(data=df, x='success', y='goal')  # Exclude outliers for clarity\n",
    "plt.yscale('log')\n",
    "plt.title('USD Goal Distribution by Success')\n",
    "plt.show()\n",
    "\n",
    "# Median goals by success\n",
    "print(df.groupby('success')['goal'].median())"
   ]
  },
  {
   "cell_type": "markdown",
   "metadata": {},
   "source": [
    "b. Category (main_category)\n",
    "Some categories might inherently perform better:"
   ]
  },
  {
   "cell_type": "code",
   "execution_count": null,
   "metadata": {},
   "outputs": [],
   "source": [
    "plt.figure(figsize=(12, 6))\n",
    "success_rate = df.groupby('category')['success'].mean().sort_values(ascending=False)\n",
    "sns.barplot(x=success_rate.index, y=success_rate.values)\n",
    "plt.xticks(rotation=45)\n",
    "plt.title('Success Rate by Main Category')\n",
    "plt.ylabel('Success Rate')\n",
    "plt.show()\n",
    "\n",
    "print(df.groupby('category')['success'].mean().sort_values(ascending=False))"
   ]
  },
  {
   "cell_type": "markdown",
   "metadata": {},
   "source": [
    "Expectation: Categories like Music or Art might have higher success rates due to lower goals or broader appeal."
   ]
  },
  {
   "cell_type": "markdown",
   "metadata": {},
   "source": [
    "c. Campaign Duration (duration_days)\n",
    "Longer campaigns might signal uncertainty, or shorter ones might create urgency:"
   ]
  },
  {
   "cell_type": "code",
   "execution_count": null,
   "metadata": {},
   "outputs": [],
   "source": [
    "plt.figure(figsize=(10, 6))\n",
    "sns.histplot(data=df, x='duration_days', hue='success', bins=30, alpha=0.5)\n",
    "plt.title('Campaign Duration by Success')\n",
    "plt.show()\n",
    "\n",
    "# Median duration by success\n",
    "print(df.groupby('success')['duration_days'].median())"
   ]
  },
  {
   "cell_type": "markdown",
   "metadata": {},
   "source": [
    "Expectation: Successful projects might favor shorter durations (e.g., 30 days).\n",
    "\n",
    "d. Country (country)\n",
    "Geographic differences could reflect market size or crowdfunding culture:"
   ]
  },
  {
   "cell_type": "code",
   "execution_count": null,
   "metadata": {},
   "outputs": [],
   "source": [
    "plt.figure(figsize=(12, 6))\n",
    "success_rate_country = df.groupby('country')['success'].mean().sort_values(ascending=False)\n",
    "sns.barplot(y=success_rate_country.index, x=success_rate_country.values, orient='h')\n",
    "plt.title('Success Rate by Country')\n",
    "plt.show()\n",
    "\n",
    "print(success_rate_country)"
   ]
  },
  {
   "cell_type": "markdown",
   "metadata": {},
   "source": [
    "e. Launch Timing (launched)\n",
    "Seasonality or year might matter:"
   ]
  },
  {
   "cell_type": "code",
   "execution_count": null,
   "metadata": {},
   "outputs": [],
   "source": [
    "df['launch_month'] = df['launched'].dt.month\n",
    "df['launch_year'] = df['launched'].dt.year\n",
    "\n",
    "plt.figure(figsize=(10, 6))\n",
    "sns.barplot(x='launch_month', y='success', data=df)\n",
    "plt.title('Success Rate by Launch Month')\n",
    "plt.show()\n",
    "\n",
    "print(df.groupby('launch_month')['success'].mean().sort_values(ascending=False))"
   ]
  },
  {
   "cell_type": "markdown",
   "metadata": {},
   "source": [
    "## Step 3: Correlation and Feature Importance\n",
    "To quantify importance, let’s use a simple machine learning model (e.g., Random Forest) to rank features. First, encode categorical variables:"
   ]
  },
  {
   "cell_type": "code",
   "execution_count": null,
   "metadata": {},
   "outputs": [],
   "source": [
    "from sklearn.ensemble import RandomForestClassifier\n",
    "from sklearn.preprocessing import LabelEncoder\n",
    "from sklearn.model_selection import train_test_split\n",
    "from sklearn.metrics import precision_score, recall_score, f1_score, accuracy_score, classification_report\n",
    "\n",
    "# Select features\n",
    "features = ['goal', 'category', 'country', 'duration_days', 'launch_month', 'launch_year']\n",
    "X = df[features].copy()\n",
    "y = df['success']\n",
    "\n",
    "# Encode categorical variables\n",
    "le = LabelEncoder()\n",
    "X['category'] = le.fit_transform(X['category'])\n",
    "X['country'] = le.fit_transform(X['country'])\n",
    "\n",
    "# # Handle any NaN values (simple imputation)\n",
    "X = X.fillna(X.median())\n",
    "\n",
    "# Train/test split (80% train, 20% test)\n",
    "X_train, X_test, y_train, y_test = train_test_split(X, y, test_size=0.2, random_state=43)\n",
    "\n",
    "# Train Random Forest\n",
    "rf = RandomForestClassifier(n_estimators=100, random_state=42)\n",
    "rf.fit(X_train, y_train)\n",
    "\n",
    "# Predict on test set\n",
    "y_pred = rf.predict(X_test)\n",
    "\n",
    "# Feature importance\n",
    "importances = pd.Series(rf.feature_importances_, index=features).sort_values(ascending=False)\n",
    "plt.figure(figsize=(10, 6))\n",
    "sns.barplot(x=importances.values, y=importances.index)\n",
    "plt.title('Feature Importance for Project Success')\n",
    "plt.show()\n",
    "print(importances)\n",
    "\n",
    "\n",
    "# Calculate metrics\n",
    "precision = precision_score(y_test, y_pred)\n",
    "recall = recall_score(y_test, y_pred)\n",
    "f1 = f1_score(y_test, y_pred)\n",
    "accuracy = accuracy_score(y_test, y_pred)\n",
    "\n",
    "# Print results\n",
    "print(f\"Precision: {precision:.3f}\")\n",
    "print(f\"Recall: {recall:.3f}\")\n",
    "print(f\"F1-Score: {f1:.3f}\")\n",
    "print(f\"Accuracy: {accuracy:.3f}\")\n",
    "\n",
    "# Detailed classification report\n",
    "print(\"\\nClassification Report:\")\n",
    "print(classification_report(y_test, y_pred, target_names=['Failed', 'Successful']))"
   ]
  },
  {
   "cell_type": "markdown",
   "metadata": {},
   "source": [
    "##  Digging Deeper\n",
    "\n",
    "* Duration: Bucket into ranges (<20, 20-40, >40 days) to check if extremes matter:"
   ]
  },
  {
   "cell_type": "code",
   "execution_count": null,
   "metadata": {},
   "outputs": [],
   "source": [
    "df['duration_bucket'] = pd.cut(df['duration_days'], bins=[0, 20, 40, 100], labels=['Short (0-20)', 'Medium (20-40)', 'Long(40+)'])\n",
    "sns.barplot(x='duration_bucket', y='success', data=df)\n",
    "plt.show()"
   ]
  },
  {
   "cell_type": "markdown",
   "metadata": {},
   "source": [
    "* Goal + Category: Test if low goals in low-success categories (e.g., Tech) still fail, or if goal trumps all:"
   ]
  },
  {
   "cell_type": "code",
   "execution_count": null,
   "metadata": {},
   "outputs": [],
   "source": [
    "sns.boxplot(x='category', y='goal', hue='success', data=df, showfliers=False)\n",
    "plt.xticks(rotation=90)\n",
    "plt.show()"
   ]
  },
  {
   "cell_type": "code",
   "execution_count": null,
   "metadata": {},
   "outputs": [],
   "source": [
    "heatmapdata = df['pledged']\n",
    "\n",
    "sns.heatmap(df)"
   ]
  },
  {
   "cell_type": "code",
   "execution_count": null,
   "metadata": {},
   "outputs": [],
   "source": []
  }
 ],
 "metadata": {
  "kernelspec": {
   "display_name": ".venv",
   "language": "python",
   "name": "python3"
  },
  "language_info": {
   "codemirror_mode": {
    "name": "ipython",
    "version": 3
   },
   "file_extension": ".py",
   "mimetype": "text/x-python",
   "name": "python",
   "nbconvert_exporter": "python",
   "pygments_lexer": "ipython3",
   "version": "3.11.3"
  }
 },
 "nbformat": 4,
 "nbformat_minor": 2
}
